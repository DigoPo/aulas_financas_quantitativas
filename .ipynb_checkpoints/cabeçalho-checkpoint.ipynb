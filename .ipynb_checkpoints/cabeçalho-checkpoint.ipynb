{
 "cells": [
  {
   "cell_type": "markdown",
   "metadata": {},
   "source": [
    "<div align='center'><a href='https://www.facebook.com/fea.dev/'/ style='display:inline-block'><img src=\"data:image/png;base64,iVBORw0KGgoAAAANSUhEUgAAASwAAACoCAMAAABt9SM9AAAA51BMVEX////35gcAAAAICCjFuCn8/P0AAB4AACby8vPZ2dwAABBqanPk5Oapqa8PDyoAABOcnKEAABkAACN4eIDAsgAAACAAAAsvL0AAABavr7QAABEAABuOjpWHh459fYbq6uzKys5JSVZUVGCXl53BwcViYmzy79fs6MQqKjy2trr46UL674P+/e/57GL9+Mr9+tb+/Or89bH+++D57nTl4K/QxWIfHzTNwlU6Okn786L46krLv0jIvDvo5Ln35yT89bT57Gn898D78ZD6737h26Hb04rQxmDXznwiIjUXFy768ZgrKz7i3KNihZpNAAAIBUlEQVR4nO2abUObOhSAQ7AF2mIpbekLpdCWqnXV1W7W6pzTzW26u///e24gvKawIXOC957ni0IJhMeT5ORUhAAAAAAAAAAAAAAAAAAAAAAAAAAAAAAAAAAAAAAAAAAAAAAAAAAgYHlWdA9eDet3N8ui+/BK+HTMHRfdh9fB+g3HcVdF9+JVQIKKcFJ0N14Bq8+cy23RHSk/d1dUFfel6J6UHT+oCJ+L7kvJuTsJVHE/iu5MqVn+4CJcFt2dMnN6ElXFQd6eyvLyJqaKuyu6R6Xl9JZjOC26S2WFDSrC26L7VE7evtsxxXHrontVRpZnxwmqwFUCiUHFcTerojtWPpKDiriC8hXD+kuyKQ7KVyyfUoIKXO3wOdXUf7fUV5Hk+TxPw1+4un3mPpYDe7xt4WF/mqPpXbqrd8/ez99izRTCwEHxmSmoMQpOy8F5g2nbmGA7yzMWPazzfDePrOR8weFNjrv9KXYP435T03DAsInbyJyQ0/1a5LTWrAlM2/FQzzi0xHmXr9ZzdC/VVUGlPnNM/uzVettjvBGGMjktyk0nGsb+6YnKvm0F8zyuZHvIqJ9L1ts0V78qXy0P3r9/+qMyIjkvbQaHRgtLzs8KkVUbBKdt3Ffi7QYaz2sDlImcsn6kuEorXy0P779fd74dPP1JWXFlNYJDC2ui87PSFfiaHJwWMbbi7Xpq9okop6yUFOtTwqUH779e7HUIf1PVjiwRP7o/K/sxWWgSiT7ajNjksZjpGflkrZJdMeWr1eH9uaNpj9A5/6uqdmShLZ21WVkGjjdrN+c9gR/KKAv5ZJ0lugrLV2R2+n7R8Ty9hKpdWQp9f1aW1Y61EpvYNnRe3WZ6Rj5ZJ+muVh/vz69DTa6qvzsAKawsD1YWg6xhMr0ltkwgn6wkV2u0+vn9w17c00upyiur1x8jtBH4/izLM2Z5ZJ0muFqhQ1aTq+riRVTllGVhJ8EwWrza+/XdRcmyLFNhZTVs27Z+szi82VF1s0Tvi1TFyKpYfpoZk2UexZdCVO/3/KZS+q2t9gPN/928NzhdUY7o6Tlpa+KHnsNRl26nWpsj72Dnqwni6ueuqxdUxciyglwgJmvAhJ6I6UdHKt9it4wBZO+oa3g7r08fh1FZ0qOmHY0G8nZYxeQu1rilqqo+H9C/hzTbdrWpbKI16+oKoa87rl5UFSNrjBMjq83IUmpUKpm4hU3KfRe4q2KFuo/OWRJWNbqy1ls8XiBEFworaDhvupde7rr6zrrqfDj8gzfPQWy7s9mPyiJZlGgSGl0tPr/w3hZair9mFBsL6sZvpTQDWSIW/Ly/ogmC+8chm4FqsCcXNTqyr+KuThA6Z1fAl1ZFX7g1UoyxYRj1ZkwW75cdhLgsMr17xRkyDvU2SkCMLRsRWdNueL5epcE7qEX25DKmuVvc1S1C3zpFq6KyeL8SI8Rkqb1J74iwYSJrrj96v5HxJehJd63r0dkslEWe1p34p0lr98ApYAR78q07NJm63xeELjqFq6KyhrLtVvpmWkxWUHV4jG0MTRxkV6YTQAklwHhgRWS19UhqJtc81eSs6ilsYCo/Vvf7jNB1TNV1IaqYOethP8MEP2tW62OKofKR6SZkofHCY3gYyiJ5rBbIdYafG7ORPowwDcioqx9oWQpVzGpoJK+Gi5isR6EVFlb5xBIgCZVwtEVkOZHI1/zGNZIzUEdb1Q84ry/Rut8lWnVKoSpbnmW2I3OWjfvGIMApAS52bjrp8t1IwAWynIepvSgbV5bsR6KF6VIZ+Q7sDB10Iqo+PuO7P5n4dieYm9K3O9NqtFrjaNktAZJkIFGWnZLzi02B5iBzbwYM6353ZDtYElVP3xuaOJYsyLWkEuA2RZaVsiA4q6dzRQXvu4dh3e8UfQzqVXsFq3q6rFE/FhrOLLR7HZGlJs1ZUuLV9AMnmZPxyD0M6n5vg61zZ+/vfQ+RmcyyRnSZ6nbjhQaSZUa9BCeFajjvhxO8xqcUa4jemoIevJ74db81uu+UJaocssoSsbtcLTATGc4Uz9Tn3U1jdB8Upg4k5RfUpC/QyHBWt5I3vfuJw8rbOpciqhyyypph92jSZWYokchqMl+TuTeNTFqhLMdijb2a3kbgq1NvPqN1v5sV3TqXRlVmWRXVzRBMvLP2OePQL8Ur0zmd0EgERWbyUJabaCXWwMhGke9q9He37nezdLfOJVKVWsGr1OJTsay5727oGruYudtgeoMZ7lbpkLRcKZZ3CYknP84U8oGAE2LLcjf09Hen7nfsbgc7ez/zv9rzkyZr6GwZUcXnQXAuamBhJ09o4ODb1g2JJ40abmuOrbrdMCV566ai3uVzN4lvtgeWJEnWYBTch4SyF+FrWr760CmZqobifLMsbAwrNuuaA5JskqlYb/moxKg0UgXiZRGdzkWbDEOe708WROI/alg+qGOBrHzutmYjE0H6RKGZvoGdW1e9TU84qGd9f1W9dMpXy7JFFRk3AdGKp4WTmAe/hVeKkc8lkibp/SDy5Bpu6dUW7isVEk462U96yaw0xVpL18mleG6FtzIx9jxfcbdo2emUSxUZbGLIzml2ha8kXRq5Abl+UB+HYVexjXbboFOcUjfs8H7mgnzSntnxEb3wo5t7R7aD98/wev8Dzr6gw69Fd+K1cIcQ/H87AAAAAAAAAAAAAAAAAAAAAAAAAAAAAAAAAAAAAAAAAAAAAAAAAAAAAAAAAAAAAAAAAAAAAAAAAAAAALwu/gXcFKZ821M5DQAAAABJRU5ErkJggg==\" height=\"100%\" width=\"350\" ><a/><div/>"
   ]
  },
  {
   "cell_type": "markdown",
   "metadata": {},
   "source": [
    "# <font color=blue|blue|red>**Jupyter Notebook**</font> \n",
    "### 1) O que é o Jupyter Notebook?\n",
    "O Jupyter Notebook é um documento que permite você executar códigos em Python e escrever textos como um word, tudo em um mesmo lugar.\n",
    "\n",
    "### 2) Como eu faço para rodar o código?\n",
    "Para rodar uma célula basta clicar na célula e precionar **Shift + Enter**. Você também pode rodar uma célula ou mais de uma pelo menu de opções na aba \"Cell\". A células são os retângulos, que podem conter um código em Python ou um texto escrito.\n",
    "\n",
    "Caso você clique nos textos e a formatação dele fique estranha basta rodar essa célula para corrigir.\n",
    "\n",
    "\n",
    "### 3) Porquê eu posso obter diferentes resultados toda vez que eu rodo a mesma célula?\n",
    "Quando você roda uma célula isso atualiza alguma variável (ex, x = x+1), assim você terá resultados diferentes para x enquanto você rodar várias vezes essa célula.\n",
    "\n",
    "### 4) Estou travado em algum exercício, o que eu faço?\n",
    "Nós recomendamos que você busca alguem do FEA.dev ou busque informações no Google ou no Stack Overflow. \n",
    "\n",
    "### 5) Como eu salvo o meu progresso?\n",
    "Clique em \"File\" na barra de opções e por fim clique na opção \"Save and Checkpoit\"\n",
    "\n",
    "### 6) O que devo fazer se o meu Jupyter travar?\n",
    "Caso isso acontece você pode tentar reiniciar o Kernel clicando em \"Kernel\" na barra de opções, e por fim selecionando a opção \"Restart\"\n",
    "\n",
    "### 7) Ainda estou com dúvidas sobre o Jupyter.\n",
    "Caso isso ocorra pode nos chamar ou se preferir pode assistir o seguinte vídeo: https://www.youtube.com/watch?v=dPb4acFiaYs\n"
   ]
  },
  {
   "cell_type": "markdown",
   "metadata": {},
   "source": [
    "# <font color=blue|blue|red>**Introdução ao Curso de Finanças Quantititativas:**</font>\n",
    "## <font color=blue|blue|red>O que esperar do Curso?</font>\n",
    "\n",
    "Bem vindo(a) ao Curso de Finanças Quantitativas em Python do FEA.dev. <ins>**_O obejtivo desse curso é ensinar à você como construir e gerir uma carteira de investimento de forma sistematizada_**</ins>. Para isso vamos abordar temas como criação e gestão de portfólio; extração de dados; visualização de dados; análise de risco, entre outros, tudo isso utilizando Python.\n",
    "\n",
    "### <font color=green|black>**Tópicos da Aula:** </font>\n",
    "- O que é Finanças Quantitativas?\n",
    "- Gráficos em python\n",
    "- Notícias do Mercado (BrasilxEUA)\n",
    "- Exemplos práticos\n",
    "- O que vou saber ao final do curso?\n",
    "- Indicações de livros e outros materiais extras\n",
    "\n",
    "### <font color=green|black>**O que eu preciso saber para fazer o Curso?** </font>\n",
    "- Básico de Programação em Python\n",
    "- Básico da Biblioteca Pandas\n",
    "\n",
    "### <font color=green|black>**Materiais de Estudo Extras e Complementares à Aula:** </font>\n",
    "Como este curso é focado em Finanças Quantitativas não vamos ensiná-los o básico de Programação em Python. Já em relação a biblioteca Pandas, apesar de nós apresentarmos e ensinarmos suas funcionalidades ao longo do curso, você precisa saber o básico. Sendo assim, caso você não saiba nada de programação em Python ou Pandas, ou ainda caso queira reforçar seus conhecimentos, nós do FEA.dev <ins>**_recomendamos o nosso canal no Youtube, o curso grátis de Python do Gustavo Guanabara, e aulas da instiuição EDHEC_**</ins> como material de estudo extra:\n",
    "\n",
    "> Canal FEA.dev: https://www.youtube.com/channel/UCVFv7Z_5n_CNZBZJVcnkn-g\n",
    "\n",
    "> Guanabara: https://www.youtube.com/watch?v=S9uPNppGsGo&list=PLvE-ZAFRgX8hnECDn1v9HNTI71veL3oW0\n",
    "\n",
    "> Material Complementar Pandas 1: https://pandas.pydata.org/pandas-docs/stable/index.html\n",
    "\n",
    "> Material Complementar Pandas 2: https://www.youtube.com/watch?v=09yuQzu7o7k&t=537s\n",
    "\n",
    "> Material Complementar Python Básico (inglês): https://risk.edhec.edu/python-code-lab-session\n",
    "\n",
    "> Finanças Quantitativas (inglês): https://medium.com/swlh/what-is-quantitative-finance-193ee8788ed4 \n",
    "\n",
    "E se você tiver algum dinheiro para investir no seu aprendizado, <ins>**_a melhor plataforma para se aprender a programar é o DataCamp_**</ins>:\n",
    "\n",
    "### <font color=green|black>**Tenho Dúvidas!** </font>\n",
    "Caso tenha qualquer dúvida <ins>**_sinta-se livre para chamar qualquer um dos nossos membros pelo nosso Instagram ou email_**</ins>. Além disso, outra ótima ferramenta para se tirar dúvidas e fazer pesquisas é o Stack Overflow. Lembrando que se possível, quando for pesquisar no Google, é recomendado que a faço em inglês, devido a maior disponibilidade de informações.\n",
    "> Email: duvidas.feadev@gmail.com\n",
    "\n",
    "> Instagram: https://www.instagram.com/fea.dev/"
   ]
  },
  {
   "cell_type": "markdown",
   "metadata": {},
   "source": [
    "## <font color=blue|blue|red>Como vai funcionar o Curso?</font>\n",
    "\n",
    "<img src='https://encrypted-tbn0.gstatic.com/images?q=tbn%3AANd9GcRWAMON9FRTNiP0OpdJo0n1Cm-OIzVQPmPjng&usqp=CAU' height=\"100%\" width=\"400\" style=\"margin-left: auto;margin-right: auto\">\n",
    "\n",
    "### <font color=green|black>**Code Along e Jupyter Notebook** </font>\n",
    "<ins>**_Todas as nossa aulas vão ser feitas na plataforma do Jupyter, Lab ou Notebook_**</ins>. Sendo que tanto a parte expositiva da teoria, quanto a programação serão feitas nelas. E <ins>**_a ideia é que vocês programem junto conosco_**</ins>. Portanto é indispensável que vocês, antes da aula, baixem o Jupyter, para que possam programar junto com nós.\n",
    "\n"
   ]
  },
  {
   "cell_type": "markdown",
   "metadata": {},
   "source": [
    "# <font color=blue|blue|red>**Finanças Quantititativas**</font>\n",
    "\n",
    "<img src='https://miro.medium.com/max/700/1*7nLJ0JX-rTcvW992qwnaQQ.png' height=\"100%\" width=\"400\" style=\"margin-left: auto;margin-right: auto\">\n",
    "\n",
    "Finanças Quantitativas é o campo de estudos em finanças que tem como <ins>**_objetivo sistematizar e aplicar técnicas das áreas da matemática, ciência da computação; estatística; e economia no mercado financeiro._**</ins>"
   ]
  },
  {
   "cell_type": "markdown",
   "metadata": {},
   "source": [
    "# <font color=blue|blue|red>**Brasil x Mundo**</font>\n",
    "\n",
    "## <font color=green|black>Jim Simons</font>\n",
    "\n",
    "Jim Simons é presidente simbólico e membro do conselho do Renaissance Technologies, um dos fundos de investimentos mais rentáveis da história. Jim também é conhecido pelo seu modelo de investimento usando métodos quantitativos. Assim ele é a maior referência em Finanças Quantitativas que existe.\n",
    "\n",
    "<img src='https://assets.bwbx.io/images/users/iqjWHBFdfxIU/iMeaX.w0i8Kc/v0/1200x-1.png' height=\"100%\" width=\"600\" style=\"margin-left: auto;margin-right: auto\">\n",
    "\n",
    "\n",
    "<img src='https://encrypted-tbn0.gstatic.com/images?q=tbn%3AANd9GcQ9Pu25IKrCpI6kPMs2gwgNuLCdJW7sZ6qrSQ&usqp=CAU' height=\"100%\" width=\"600\" style=\"margin-left: auto;margin-right: auto\">\n"
   ]
  },
  {
   "cell_type": "markdown",
   "metadata": {},
   "source": [
    "## <font color=green|black>Brasil</font>\n",
    "O mercado brasileiro de fundos quantitativos ainda é muito pequeno, e ainda possui uma capacidade de crescimento imensa.\n",
    "\n",
    "Indústria de Fundos | Fundos Multimercado | Fundos Ações | Fundos Quantitativos |\n",
    "--- | --- | --- | --- |\n",
    "**5 Trilhões** de reais| **1.1 Trilhões** de reais | **360 Bilhões** de reais | **5 Bilhões** de reais |\n"
   ]
  },
  {
   "cell_type": "code",
   "execution_count": null,
   "metadata": {},
   "outputs": [],
   "source": []
  },
  {
   "cell_type": "code",
   "execution_count": null,
   "metadata": {},
   "outputs": [],
   "source": []
  }
 ],
 "metadata": {
  "kernelspec": {
   "display_name": "Python 3",
   "language": "python",
   "name": "python3"
  },
  "language_info": {
   "codemirror_mode": {
    "name": "ipython",
    "version": 3
   },
   "file_extension": ".py",
   "mimetype": "text/x-python",
   "name": "python",
   "nbconvert_exporter": "python",
   "pygments_lexer": "ipython3",
   "version": "3.8.2"
  }
 },
 "nbformat": 4,
 "nbformat_minor": 4
}
