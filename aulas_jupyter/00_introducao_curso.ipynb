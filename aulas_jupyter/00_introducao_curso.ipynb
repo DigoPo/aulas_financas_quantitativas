{
 "cells": [
  {
   "cell_type": "markdown",
   "metadata": {},
   "source": [
    "<div align='center'><a href='https://www.facebook.com/fea.dev/'/ style='display:inline-block'><img src=\"data:image/png;base64,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\" height=\"100%\" width=\"350\" ><a/><div/>"
   ]
  },
  {
   "cell_type": "markdown",
   "metadata": {},
   "source": [
    "# <font color=blue|blue|red>**Jupyter Notebook**</font> \n",
    "### 1) O que é o Jupyter Notebook?\n",
    "O Jupyter Notebook é um documento que permite você executar códigos em Python e escrever textos como um word, tudo em um mesmo lugar.\n",
    "\n",
    "### 2) Como eu faço para rodar o código?\n",
    "Para rodar uma célula basta clicar na célula e precionar **Shift + Enter**. Você também pode rodar uma célula ou mais de uma pelo menu de opções na aba \"Cell\". A células são os retângulos, que podem conter um código em Python ou um texto escrito.\n",
    "\n",
    "Caso você clique nos textos e a formatação dele fique estranha basta rodar essa célula para corrigir.\n",
    "\n",
    "\n",
    "### 3) Porquê eu posso obter diferentes resultados toda vez que eu rodo a mesma célula?\n",
    "Quando você roda uma célula isso atualiza alguma variável (ex, x = x+1), assim você terá resultados diferentes para x enquanto você rodar várias vezes essa célula.\n",
    "\n",
    "### 4) Estou travado em algum exercício, o que eu faço?\n",
    "Nós recomendamos que você busca alguem do FEA.dev ou busque informações no Google ou no Stack Overflow. \n",
    "\n",
    "### 5) Como eu salvo o meu progresso?\n",
    "Clique em \"File\" na barra de opções e por fim clique na opção \"Save and Checkpoit\"\n",
    "\n",
    "### 6) O que devo fazer se o meu Jupyter travar?\n",
    "Caso isso acontece você pode tentar reiniciar o Kernel clicando em \"Kernel\" na barra de opções, e por fim selecionando a opção \"Restart\"\n",
    "\n",
    "### 7) Ainda estou com dúvidas sobre o Jupyter.\n",
    "Caso isso ocorra pode nos chamar ou se preferir pode assistir o seguinte vídeo: https://www.youtube.com/watch?v=dPb4acFiaYs\n"
   ]
  },
  {
   "cell_type": "markdown",
   "metadata": {},
   "source": [
    "# <font color=blue|blue|red>**Introdução ao Curso de Finanças Quantititativas:**</font>\n",
    "## <font color=blue|blue|red>O que esperar do Curso?</font>\n",
    "\n",
    "Bem vindo(a) ao Curso de Finanças Quantitativas em Python do FEA.dev. <ins>**_O obejtivo desse curso é ensinar à você como construir e gerir uma carteira de investimento de forma sistematizada_**</ins>. Para isso vamos abordar temas como criação e gestão de portfólio; extração de dados; visualização de dados; análise de risco, entre outros, tudo isso utilizando Python.\n",
    "\n",
    "### <font color=green|black>**Tópicos da Aula:** </font>\n",
    "- O que é Finanças Quantitativas?\n",
    "- Gráficos em python\n",
    "- Notícias do Mercado (BrasilxEUA)\n",
    "- Exemplos práticos\n",
    "- O que vou saber ao final do curso?\n",
    "- Indicações de livros e outros materiais extras\n",
    "\n",
    "### <font color=green|black>**O que eu preciso saber para fazer o Curso?** </font>\n",
    "- Básico de Programação em Python\n",
    "- Básico da Biblioteca Pandas\n",
    "\n",
    "### <font color=green|black>**Materiais de Estudo Extras e Complementares à Aula:** </font>\n",
    "Como este curso é focado em Finanças Quantitativas não vamos ensiná-los o básico de Programação em Python. Já em relação a biblioteca Pandas, apesar de nós apresentarmos e ensinarmos suas funcionalidades ao longo do curso, você precisa saber o básico. Sendo assim, caso você não saiba nada de programação em Python ou Pandas, ou ainda caso queira reforçar seus conhecimentos, nós do FEA.dev <ins>**_recomendamos o nosso canal no Youtube, o curso grátis de Python do Gustavo Guanabara, e aulas da instiuição EDHEC_**</ins> como material de estudo extra:\n",
    "\n",
    "> Canal FEA.dev: https://www.youtube.com/channel/UCVFv7Z_5n_CNZBZJVcnkn-g\n",
    "\n",
    "> Guanabara: https://www.youtube.com/watch?v=S9uPNppGsGo&list=PLvE-ZAFRgX8hnECDn1v9HNTI71veL3oW0\n",
    "\n",
    "> Material Complementar Pandas 1: https://pandas.pydata.org/pandas-docs/stable/index.html\n",
    "\n",
    "> Material Complementar Pandas 2: https://www.youtube.com/watch?v=09yuQzu7o7k&t=537s\n",
    "\n",
    "> Material Complementar Python Básico (inglês): https://risk.edhec.edu/python-code-lab-session\n",
    "\n",
    "> Finanças Quantitativas (inglês): https://medium.com/swlh/what-is-quantitative-finance-193ee8788ed4 \n",
    "\n",
    "E se você tiver algum dinheiro para investir no seu aprendizado, <ins>**_a melhor plataforma para se aprender a programar é o DataCamp_**</ins>:\n",
    "\n",
    "### <font color=green|black>**Tenho Dúvidas!** </font>\n",
    "Caso tenha qualquer dúvida <ins>**_sinta-se livre para chamar qualquer um dos nossos membros pelo nosso Instagram ou email_**</ins>. Além disso, outra ótima ferramenta para se tirar dúvidas e fazer pesquisas é o Stack Overflow. Lembrando que se possível, quando for pesquisar no Google, é recomendado que a faço em inglês, devido a maior disponibilidade de informações.\n",
    "> Email: duvidas.feadev@gmail.com\n",
    "\n",
    "> Instagram: https://www.instagram.com/fea.dev/"
   ]
  },
  {
   "cell_type": "markdown",
   "metadata": {},
   "source": [
    "## <font color=blue|blue|red>Como vai funcionar o Curso?</font>\n",
    "\n",
    "<img src='https://encrypted-tbn0.gstatic.com/images?q=tbn%3AANd9GcRWAMON9FRTNiP0OpdJo0n1Cm-OIzVQPmPjng&usqp=CAU' height=\"100%\" width=\"400\" style=\"margin-left: auto;margin-right: auto\">\n",
    "\n",
    "### <font color=green|black>**Code Along e Jupyter Notebook** </font>\n",
    "<ins>**_Todas as nossa aulas vão ser feitas na plataforma do Jupyter, Lab ou Notebook_**</ins>. Sendo que tanto a parte expositiva da teoria, quanto a programação serão feitas nelas. E <ins>**_a ideia é que vocês programem junto conosco_**</ins>. Portanto é indispensável que vocês, antes da aula, baixem o Jupyter, para que possam programar junto com nós.\n",
    "\n"
   ]
  },
  {
   "cell_type": "markdown",
   "metadata": {},
   "source": [
    "# <font color=blue|blue|red>**Finanças Quantititativas**</font>\n",
    "\n",
    "<img src='https://miro.medium.com/max/700/1*7nLJ0JX-rTcvW992qwnaQQ.png' height=\"100%\" width=\"400\" style=\"margin-left: auto;margin-right: auto\">\n",
    "\n",
    "Finanças Quantitativas é o campo de estudos em finanças que tem como <ins>**_objetivo sistematizar e aplicar técnicas das áreas da matemática, ciência da computação; estatística; e economia no mercado financeiro._**</ins>"
   ]
  },
  {
   "cell_type": "markdown",
   "metadata": {},
   "source": [
    "# <font color=blue|blue|red>**Brasil x Mundo**</font>\n",
    "\n",
    "## <font color=green|black>Jim Simons</font>\n",
    "\n",
    "Jim Simons é presidente simbólico e membro do conselho do Renaissance Technologies, um dos fundos de investimentos mais rentáveis da história. Jim também é conhecido pelo seu modelo de investimento usando métodos quantitativos. Assim ele é a maior referência em Finanças Quantitativas que existe.\n",
    "\n",
    "<img src='https://assets.bwbx.io/images/users/iqjWHBFdfxIU/iMeaX.w0i8Kc/v0/1200x-1.png' height=\"100%\" width=\"600\" style=\"margin-left: auto;margin-right: auto\">\n",
    "\n",
    "\n",
    "<img src='https://encrypted-tbn0.gstatic.com/images?q=tbn%3AANd9GcQ9Pu25IKrCpI6kPMs2gwgNuLCdJW7sZ6qrSQ&usqp=CAU' height=\"100%\" width=\"600\" style=\"margin-left: auto;margin-right: auto\">\n"
   ]
  },
  {
   "cell_type": "markdown",
   "metadata": {},
   "source": [
    "## <font color=green|black>Brasil</font>\n",
    "O mercado brasileiro de fundos quantitativos ainda é muito pequeno, e ainda possui uma capacidade de crescimento imensa.\n",
    "\n",
    "Indústria de Fundos | Fundos Multimercado | Fundos Ações | Fundos Quantitativos |\n",
    "--- | --- | --- | --- |\n",
    "**5 Trilhões** de reais| **1.1 Trilhões** de reais | **360 Bilhões** de reais | **5 Bilhões** de reais |\n"
   ]
  },
  {
   "cell_type": "markdown",
   "metadata": {},
   "source": [
    "Fala DEVS!!!\n",
    "\n",
    "Eu me chamo Diego, faço parte do grupo de estudos de finanças quantitativas do fea.dev. Depois de tudo que apresentamos, você deve estar se perguntando: o que vou aprender com esses vídeos?\n",
    "\n",
    "Nós separamos aquilo que achamos essencial para um iniciante. Começaremos falando sobre os fundamentos de retorno e risco, explicando seus conceitos e mostrando as principais formas de calcula-los.\n",
    "\n",
    "Também iremos mostrar como extrair e visualizar dados do mercado financeiro, como preço de ações, variações percentuais e outros indicadores.\n",
    "\n",
    "Falaremos também sobre a fronteira de markowitz, um assunto muito popular e comumente presente nos estudos de quem está começando.\n",
    "\n",
    "Explicaremos o que é backtest e como montar uma estratégia de investimentos.\n",
    "\n"
   ]
  },
  {
   "cell_type": "markdown",
   "metadata": {},
   "source": [
    "# <font color=blue|blue|red>**O que você irá aprender?**</font>"
   ]
  },
  {
   "cell_type": "markdown",
   "metadata": {},
   "source": [
    "1. Retorno e Risco \n",
    "2. Extração e Visualização de Dados\n",
    "3. Indicadores (Sharpe, VaR, CVaR, Drawdown, ...)\n",
    "4. Fronteira de Markowitz\n",
    "5. Backtest e Estratégias de Investimentos\n",
    "6. Gestão e otimização de carteiras\n",
    "7. Simulação de Monte Carlo\n",
    "8. Estratégias de alocação (Hedging, Insurance, CPPI, ...)\n",
    "9. ..."
   ]
  },
  {
   "cell_type": "code",
   "execution_count": 6,
   "metadata": {
    "collapsed": true,
    "jupyter": {
     "outputs_hidden": true,
     "source_hidden": true
    }
   },
   "outputs": [
    {
     "data": {
      "application/vnd.plotly.v1+json": {
       "config": {
        "plotlyServerURL": "https://plot.ly"
       },
       "data": [
        {
         "close": [
          12.010077476501465,
          11.902953147888184,
          11.912691116333008,
          11.878606796264648,
          12.243802070617676,
          12.67960262298584,
          12.611433029174805,
          13.20305061340332,
          13.147053718566895,
          13.064275741577148,
          13.015582084655762,
          13.23226547241211,
          13.633981704711914,
          13.612070083618164,
          13.558506965637207,
          13.775190353393555,
          13.670501708984375,
          13.098360061645508,
          13.875011444091797,
          13.948050498962402,
          13.75571346282959,
          13.585288047790527,
          13.763017654418945,
          14.038131713867188,
          13.950484275817871,
          13.592592239379883,
          13.20305061340332,
          12.752641677856445,
          13.212789535522461,
          13.61937427520752,
          13.889618873596191,
          13.714325904846191,
          14.327853202819824,
          14.174471855163574,
          14.086824417114258,
          13.76545238494873,
          13.743539810180664,
          12.234063148498535,
          12.299798965454102,
          12.794031143188477,
          12.867070198059082,
          12.769684791564941,
          11.635143280029297,
          11.036221504211426,
          9.82620620727539,
          11.4403715133667,
          10.488428115844727,
          8.277775764465332,
          10.225486755371094,
          8.294817924499512,
          8.660012245178223,
          7.014195919036865,
          7.43782377243042,
          7.462170124053955,
          7.355045795440674,
          8.930257797241211,
          9.738558769226074,
          10.011238098144531,
          9.495094299316406,
          10.128100395202637,
          9.492660522460938,
          9.125029563903809,
          8.737921714782715,
          8.652709007263184,
          9.300323486328125,
          9.760470390319824,
          10.215746879577637,
          10.140275001525879,
          10.203574180603027,
          10.626667976379395,
          10.861989974975586,
          11.288046836853027,
          11.045292854309082,
          12.00887680053711,
          12.521632194519043,
          12.254108428955078,
          11.736398696899414,
          12.261539459228516,
          12.831267356872559,
          12.538971900939941,
          12.311079978942871,
          12.74209213256836,
          12.434934616088867,
          13.661088943481445,
          14.067329406738281,
          13.757694244384766,
          13.611547470092773,
          13.574390411376953,
          13.648702621459961,
          13.747786521911621,
          13.656134605407715,
          13.809713363647461,
          14.510726928710938,
          14.09457778930664,
          14.438891410827637,
          14.28035831451416,
          14.961555480957031,
          15.972203254699707,
          16.68560218811035,
          16.162939071655273,
          15.940000534057617,
          15.77899169921875,
          15.308345794677734,
          15.45201587677002,
          14.983848571777344,
          14.726232528686523,
          15.45201587677002,
          15.45201587677002,
          16.001928329467773,
          15.840917587280273,
          16.311561584472656,
          16.348718643188477,
          16.643491744995117,
          17.26523780822754,
          17.68634033203125,
          17.562488555908203,
          17.401477813720703,
          17.290010452270508,
          17.26276206970215,
          17.178539276123047,
          17.441110610961914,
          17.748268127441406,
          17.909278869628906,
          17.364320755004883,
          17.8349666595459,
          17.832487106323242,
          18.508731842041016,
          18.99919319152832,
          19.66800308227539,
          19.861215591430664,
          19.94048309326172,
          19.94048309326172,
          20.18819236755371,
          19.861215591430664,
          20.312044143676758,
          21.550582885742188,
          20.881772994995117,
          20.968469619750977,
          19.915712356567383,
          19.73488426208496,
          19.65561866760254,
          19.915712356567383,
          19.8686466217041,
          20.631587982177734,
          20.083322525024414,
          20.642499923706055,
          20.625,
          20.75,
          21.477500915527344,
          21.412500381469727,
          20.482500076293945,
          20.247499465942383,
          20.014999389648438,
          20.112499237060547,
          20.440000534057617,
          20.412500381469727,
          22.375,
          22.424999237060547,
          21.837499618530273,
          21.837499618530273,
          21.770000457763672,
          22,
          22.537500381469727,
          22.9950008392334,
          23.645000457763672,
          23.30500030517578,
          23.832500457763672,
          23.377500534057617,
          22.125,
          22.1924991607666,
          21.922500610351562,
          22.799999237060547,
          22.0625,
          21.892499923706055,
          22.575000762939453,
          22.395000457763672,
          22.292499542236328,
          21.774999618530273,
          21.790000915527344,
          22.174999237060547,
          22.372499465942383,
          21.6200008392334,
          22.325000762939453,
          22.657499313354492,
          21.86750030517578,
          21.8700008392334,
          22.299999237060547,
          22.975000381469727,
          22.012500762939453,
          22.53499984741211,
          22.325000762939453,
          22.235000610351562,
          22.967500686645508,
          24.537500381469727,
          26,
          25.68000030517578,
          25.510000228881836,
          25.8700008392334,
          25.690000534057617,
          26.040000915527344,
          26.219999313354492,
          26.100000381469727
         ],
         "high": [
          12.332500457763672,
          12.332500457763672,
          12.327500343322754,
          12.300000190734863,
          12.587499618530273,
          13.057499885559082,
          13.262499809265137,
          13.557499885559082,
          13.762499809265137,
          13.59000015258789,
          13.680000305175781,
          13.607500076293945,
          14,
          14.1850004196167,
          14.274999618530273,
          14.180000305175781,
          14.262499809265137,
          13.824999809265137,
          14.2475004196167,
          14.522500038146973,
          14.175000190734863,
          14.287500381469727,
          14.237500190734863,
          14.667499542236328,
          14.710000038146973,
          14.537500381469727,
          13.982500076293945,
          13.882499694824219,
          13.699999809265137,
          14.137499809265137,
          14.324999809265137,
          14.489999771118164,
          14.979999542236328,
          14.774999618530273,
          14.725000381469727,
          14.532500267028809,
          14.454999923706055,
          13.350000381469727,
          12.630000114440918,
          13.359999656677246,
          13.699999809265137,
          13.614999771118164,
          13,
          11.602499961853027,
          10.59000015258789,
          11.7524995803833,
          11.692500114440918,
          9.707500457763672,
          10.6899995803833,
          9.977499961853027,
          9.420000076293945,
          8.404999732971191,
          7.84250020980835,
          9.017499923706055,
          8.232500076293945,
          9.447500228881836,
          10.837499618530273,
          11.100000381469727,
          10.1850004196167,
          10.505000114440918,
          10.800000190734863,
          9.782500267028809,
          9.675000190734863,
          8.912500381469727,
          9.845000267028809,
          10.649999618530273,
          10.550000190734863,
          10.925000190734863,
          10.524999618530273,
          10.850000381469727,
          11.079999923706055,
          11.5,
          11.72249984741211,
          12.137499809265137,
          13.045000076293945,
          13.125,
          12.287500381469727,
          12.5,
          12.949999809265137,
          13.22249984741211,
          12.887499809265137,
          12.920000076293945,
          13.199999809265137,
          14.020000457763672,
          14.550000190734863,
          14.479999542236328,
          14.137499809265137,
          14.25,
          13.984999656677246,
          13.927499771118164,
          14.0625,
          14.172499656677246,
          14.8125,
          14.875,
          14.774999618530273,
          14.824999809265137,
          15.25,
          17.032499313354492,
          16.9424991607666,
          16.885000228881836,
          16.422500610351562,
          16.165000915527344,
          16.2450008392334,
          15.869999885559082,
          15.537500381469727,
          15.522500038146973,
          15.819999694824219,
          15.922499656677246,
          16.264999389648438,
          16.25,
          16.462499618530273,
          16.86750030517578,
          17.165000915527344,
          17.729999542236328,
          17.934999465942383,
          18.084999084472656,
          18.022499084472656,
          17.895000457763672,
          17.674999237060547,
          17.727500915527344,
          17.602500915527344,
          18.225000381469727,
          18.125,
          18.3125,
          18.012500762939453,
          18.295000076293945,
          18.697500228881836,
          19.174999237060547,
          19.895000457763672,
          20.25,
          20.549999237060547,
          20.587499618530273,
          20.475000381469727,
          20.450000762939453,
          20.55500030517578,
          21.790000915527344,
          22.375,
          21.514999389648438,
          21.350000381469727,
          19.975000381469727,
          20.487499237060547,
          20.274999618530273,
          20.354999542236328,
          20.862499237060547,
          21.1875,
          20.700000762939453,
          20.799999237060547,
          21.107500076293945,
          21.547500610351562,
          21.875,
          21.575000762939453,
          20.747499465942383,
          20.532499313354492,
          21,
          20.607500076293945,
          20.86750030517578,
          22.450000762939453,
          22.5575008392334,
          22.0674991607666,
          22.174999237060547,
          22.270000457763672,
          22.177499771118164,
          22.875,
          23.030000686645508,
          23.645000457763672,
          23.6299991607666,
          24.0625,
          24.104999542236328,
          23.575000762939453,
          22.610000610351562,
          22.377500534057617,
          22.857500076293945,
          23.422500610351562,
          22.600000381469727,
          22.967500686645508,
          23.110000610351562,
          22.725000381469727,
          22.325000762939453,
          22.387500762939453,
          22.287500381469727,
          22.545000076293945,
          22.49250030517578,
          22.447500228881836,
          22.774999618530273,
          23.06999969482422,
          22.212499618530273,
          22.475000381469727,
          22.975000381469727,
          22.94499969482422,
          22.674999237060547,
          22.799999237060547,
          22.6924991607666,
          23,
          24.537500381469727,
          26.100000381469727,
          27.25,
          26.06999969482422,
          26.049999237060547,
          26.299999237060547,
          26.139999389648438,
          26.799999237060547,
          26.399999618530273
         ],
         "low": [
          11.927499771118164,
          12.074999809265137,
          11.949999809265137,
          12.125,
          12.125,
          12.604999542236328,
          12.762499809265137,
          13.037500381469727,
          13.399999618530273,
          13.300000190734863,
          13.074999809265137,
          13.274999618530273,
          13.512499809265137,
          13.90250015258789,
          13.707500457763672,
          13.732500076293945,
          14,
          13.4375,
          13.5024995803833,
          14.162500381469727,
          13.755000114440918,
          13.800000190734863,
          13.914999961853027,
          14.282500267028809,
          14.257499694824219,
          13.949999809265137,
          13.375,
          12.885000228881836,
          12.932499885559082,
          13.5625,
          13.524999618530273,
          14,
          14.287500381469727,
          14.375,
          14.40250015258789,
          13.957500457763672,
          13.850000381469727,
          12.505000114440918,
          11.805000305175781,
          12.454999923706055,
          12.917499542236328,
          12.967499732971191,
          11.649999618530273,
          10.762499809265137,
          9.694999694824219,
          10.569999694824219,
          9.975000381469727,
          7.642499923706055,
          8.552499771118164,
          8.517499923706055,
          8.212499618530273,
          6.617499828338623,
          6.25,
          7.662499904632568,
          7.389999866485596,
          8.430000305175781,
          9.180000305175781,
          10.0649995803833,
          9.412500381469727,
          9.949999809265137,
          9.702500343322754,
          9.017499923706055,
          8.77750015258789,
          8.332500457763672,
          9.305000305175781,
          10.022500038146973,
          9.859999656677246,
          10.3149995803833,
          10.167499542236328,
          10.585000038146973,
          10.375,
          11.050000190734863,
          10.975000381469727,
          10.8125,
          12.274999618530273,
          12.145000457763672,
          10.670000076293945,
          12,
          12.537500381469727,
          12.537500381469727,
          12.27750015258789,
          11.827500343322754,
          12.537500381469727,
          13.005000114440918,
          13.34749984741211,
          13.6875,
          13.640000343322754,
          13.515000343322754,
          13.607500076293945,
          13.449999809265137,
          13.574999809265137,
          13.774999618530273,
          13.925000190734863,
          14.220000267028809,
          14.270000457763672,
          14.287500381469727,
          14.720000267028809,
          15.787500381469727,
          16.1875,
          16.125,
          16,
          15.6875,
          15.352499961853027,
          15.045000076293945,
          15.0024995803833,
          14.630000114440918,
          14.824999809265137,
          15.225000381469727,
          15.28499984741211,
          15.6274995803833,
          15.555000305175781,
          16.149999618530273,
          16.482500076293945,
          16.479999542236328,
          17.604999542236328,
          17.547500610351562,
          17.5625,
          17.049999237060547,
          17.184999465942383,
          17.162500381469727,
          17.087499618530273,
          17.40999984741211,
          17.725000381469727,
          17.524999618530273,
          17.325000762939453,
          17.899999618530273,
          17.767499923706055,
          18.704999923706055,
          19.059999465942383,
          19.737499237060547,
          20.052499771118164,
          19.860000610351562,
          20.217500686645508,
          19.78499984741211,
          20.1200008392334,
          20.52750015258789,
          20.93000030517578,
          20.540000915527344,
          19.625,
          19.302499771118164,
          19.625,
          19.6299991607666,
          19.8799991607666,
          19.767499923706055,
          20,
          19.940000534057617,
          20.204999923706055,
          20.725000381469727,
          20.875,
          21.084999084472656,
          20.280000686645508,
          20.0575008392334,
          19.799999237060547,
          19.864999771118164,
          20.049999237060547,
          19.84749984741211,
          21.002500534057617,
          22.05500030517578,
          21.537500381469727,
          21.600000381469727,
          21.65250015258789,
          21.852500915527344,
          21.989999771118164,
          22.604999542236328,
          22.975000381469727,
          23.09000015258789,
          23.417499542236328,
          23.25,
          21.799999237060547,
          20.86750030517578,
          21.375,
          22.25749969482422,
          21.75,
          21.780000686645508,
          22.25,
          22.270000457763672,
          22.157499313354492,
          21.665000915527344,
          21.510000228881836,
          21.082500457763672,
          21.875,
          21.552499771118164,
          21.424999237060547,
          21.875,
          21.7549991607666,
          21.639999389648438,
          21.809999465942383,
          22.302499771118164,
          21.899999618530273,
          22.065000534057617,
          22.21500015258789,
          22.225000381469727,
          22.274999618530273,
          22.899999618530273,
          24.875,
          25.040000915527344,
          25,
          25.15999984741211,
          25.350000381469727,
          25.649999618530273,
          25.959999084472656,
          26
         ],
         "open": [
          12.074999809265137,
          12.125,
          12.100000381469727,
          12.234999656677246,
          12.154999732971191,
          12.625,
          13.022500038146973,
          13.050000190734863,
          13.5,
          13.420000076293945,
          13.550000190734863,
          13.449999809265137,
          13.529999732971191,
          13.930000305175781,
          14.1274995803833,
          13.920000076293945,
          14.192500114440918,
          13.762499809265137,
          13.5024995803833,
          14.3774995803833,
          14.092499732971191,
          13.90999984741211,
          14.119999885559082,
          14.399999618530273,
          14.625,
          14.5,
          13.925000190734863,
          13.5,
          13.300000190734863,
          13.632499694824219,
          13.729999542236328,
          14.399999618530273,
          14.5,
          14.5625,
          14.587499618530273,
          14.482500076293945,
          13.912500381469727,
          13,
          12.25,
          12.675000190734863,
          13.170000076293945,
          13.600000381469727,
          13,
          11.032500267028809,
          9.755000114440918,
          11.25,
          11.25,
          9,
          10.625,
          8.75,
          9.029999732971191,
          8.005000114440918,
          6.875,
          8.199999809265137,
          8.125,
          8.430000305175781,
          9.225000381469727,
          10.15999984741211,
          9.672499656677246,
          10.25,
          10.619999885559082,
          9.350000381469727,
          9.555000305175781,
          8.835000038146973,
          9.600000381469727,
          10.359999656677246,
          10.067500114440918,
          10.704999923706055,
          10.272500038146973,
          10.725000381469727,
          10.524999618530273,
          11.162500381469727,
          11.670000076293945,
          10.930000305175781,
          12.375,
          12.96500015258789,
          12.09749984741211,
          12.307499885559082,
          12.75,
          13.149999618530273,
          12.46500015258789,
          12,
          13.037500381469727,
          13.055000305175781,
          14.125,
          14.479999542236328,
          13.859999656677246,
          13.875,
          13.899999618530273,
          13.699999809265137,
          13.75,
          14.1225004196167,
          13.984999656677246,
          14.75,
          14.399999618530273,
          14.47249984741211,
          14.800000190734863,
          15.800000190734863,
          16.71500015258789,
          16.8125,
          16.325000762939453,
          16,
          16.15250015258789,
          15.720000267028809,
          15.407500267028809,
          15.5,
          15.0024995803833,
          15.295000076293945,
          15.75,
          15.704999923706055,
          15.710000038146973,
          16.649999618530273,
          16.602500915527344,
          16.795000076293945,
          17.7450008392334,
          17.905000686645508,
          17.889999389648438,
          17.549999237060547,
          17.477500915527344,
          17.372499465942383,
          17.542499542236328,
          17.457500457763672,
          17.9950008392334,
          18.1875,
          17.549999237060547,
          18.202499389648438,
          17.975000381469727,
          18.8125,
          19.25,
          19.822500228881836,
          20.15250015258789,
          20.1875,
          20.325000762939453,
          20.274999618530273,
          20.125,
          20.59000015258789,
          22.177499771118164,
          21,
          21.270000457763672,
          19.969999313354492,
          20.162500381469727,
          19.829999923706055,
          20.24250030517578,
          19.799999237060547,
          21.049999237060547,
          20.302499771118164,
          20.362499237060547,
          20.825000762939453,
          21,
          21.299999237060547,
          21.545000076293945,
          20.674999237060547,
          20.327499389648438,
          20.149999618530273,
          20.15250015258789,
          20.625,
          21.375,
          22.252500534057617,
          22.040000915527344,
          21.739999771118164,
          22.045000076293945,
          21.975000381469727,
          22.02750015258789,
          22.604999542236328,
          23.125,
          23.627500534057617,
          23.549999237060547,
          23.975000381469727,
          23.452499389648438,
          22.362499237060547,
          21.762500762939453,
          22.25749969482422,
          22.844999313354492,
          22.34000015258789,
          22.299999237060547,
          22.852500915527344,
          22.454999923706055,
          22.147499084472656,
          21.899999618530273,
          21.3075008392334,
          22.399999618530273,
          22.372499465942383,
          21.725000381469727,
          22.102500915527344,
          22.899999618530273,
          21.885000228881836,
          22.02750015258789,
          22.334999084472656,
          22.762500762939453,
          22.2450008392334,
          22.75,
          22.424999237060547,
          22.450000762939453,
          22.975000381469727,
          24.88249969482422,
          26.5,
          25.020000457763672,
          25.760000228881836,
          26.110000610351562,
          25.799999237060547,
          26,
          26.350000381469727
         ],
         "type": "candlestick",
         "x": [
          "2020-01-02T00:00:00",
          "2020-01-03T00:00:00",
          "2020-01-06T00:00:00",
          "2020-01-07T00:00:00",
          "2020-01-08T00:00:00",
          "2020-01-09T00:00:00",
          "2020-01-10T00:00:00",
          "2020-01-13T00:00:00",
          "2020-01-14T00:00:00",
          "2020-01-15T00:00:00",
          "2020-01-16T00:00:00",
          "2020-01-17T00:00:00",
          "2020-01-20T00:00:00",
          "2020-01-21T00:00:00",
          "2020-01-22T00:00:00",
          "2020-01-23T00:00:00",
          "2020-01-24T00:00:00",
          "2020-01-27T00:00:00",
          "2020-01-28T00:00:00",
          "2020-01-29T00:00:00",
          "2020-01-30T00:00:00",
          "2020-01-31T00:00:00",
          "2020-02-03T00:00:00",
          "2020-02-04T00:00:00",
          "2020-02-05T00:00:00",
          "2020-02-06T00:00:00",
          "2020-02-07T00:00:00",
          "2020-02-10T00:00:00",
          "2020-02-11T00:00:00",
          "2020-02-12T00:00:00",
          "2020-02-13T00:00:00",
          "2020-02-14T00:00:00",
          "2020-02-17T00:00:00",
          "2020-02-18T00:00:00",
          "2020-02-19T00:00:00",
          "2020-02-20T00:00:00",
          "2020-02-21T00:00:00",
          "2020-02-27T00:00:00",
          "2020-02-28T00:00:00",
          "2020-03-02T00:00:00",
          "2020-03-03T00:00:00",
          "2020-03-04T00:00:00",
          "2020-03-05T00:00:00",
          "2020-03-06T00:00:00",
          "2020-03-09T00:00:00",
          "2020-03-10T00:00:00",
          "2020-03-11T00:00:00",
          "2020-03-12T00:00:00",
          "2020-03-13T00:00:00",
          "2020-03-16T00:00:00",
          "2020-03-17T00:00:00",
          "2020-03-18T00:00:00",
          "2020-03-19T00:00:00",
          "2020-03-20T00:00:00",
          "2020-03-23T00:00:00",
          "2020-03-24T00:00:00",
          "2020-03-25T00:00:00",
          "2020-03-26T00:00:00",
          "2020-03-27T00:00:00",
          "2020-03-30T00:00:00",
          "2020-03-31T00:00:00",
          "2020-04-01T00:00:00",
          "2020-04-02T00:00:00",
          "2020-04-03T00:00:00",
          "2020-04-06T00:00:00",
          "2020-04-07T00:00:00",
          "2020-04-08T00:00:00",
          "2020-04-09T00:00:00",
          "2020-04-13T00:00:00",
          "2020-04-14T00:00:00",
          "2020-04-15T00:00:00",
          "2020-04-16T00:00:00",
          "2020-04-17T00:00:00",
          "2020-04-20T00:00:00",
          "2020-04-22T00:00:00",
          "2020-04-23T00:00:00",
          "2020-04-24T00:00:00",
          "2020-04-27T00:00:00",
          "2020-04-28T00:00:00",
          "2020-04-29T00:00:00",
          "2020-04-30T00:00:00",
          "2020-05-04T00:00:00",
          "2020-05-05T00:00:00",
          "2020-05-06T00:00:00",
          "2020-05-07T00:00:00",
          "2020-05-08T00:00:00",
          "2020-05-11T00:00:00",
          "2020-05-12T00:00:00",
          "2020-05-13T00:00:00",
          "2020-05-14T00:00:00",
          "2020-05-15T00:00:00",
          "2020-05-18T00:00:00",
          "2020-05-19T00:00:00",
          "2020-05-20T00:00:00",
          "2020-05-21T00:00:00",
          "2020-05-22T00:00:00",
          "2020-05-25T00:00:00",
          "2020-05-26T00:00:00",
          "2020-05-27T00:00:00",
          "2020-05-28T00:00:00",
          "2020-05-29T00:00:00",
          "2020-06-01T00:00:00",
          "2020-06-02T00:00:00",
          "2020-06-03T00:00:00",
          "2020-06-04T00:00:00",
          "2020-06-05T00:00:00",
          "2020-06-08T00:00:00",
          "2020-06-09T00:00:00",
          "2020-06-10T00:00:00",
          "2020-06-12T00:00:00",
          "2020-06-15T00:00:00",
          "2020-06-16T00:00:00",
          "2020-06-17T00:00:00",
          "2020-06-18T00:00:00",
          "2020-06-19T00:00:00",
          "2020-06-22T00:00:00",
          "2020-06-23T00:00:00",
          "2020-06-24T00:00:00",
          "2020-06-25T00:00:00",
          "2020-06-26T00:00:00",
          "2020-06-29T00:00:00",
          "2020-06-30T00:00:00",
          "2020-07-01T00:00:00",
          "2020-07-02T00:00:00",
          "2020-07-03T00:00:00",
          "2020-07-06T00:00:00",
          "2020-07-07T00:00:00",
          "2020-07-08T00:00:00",
          "2020-07-09T00:00:00",
          "2020-07-10T00:00:00",
          "2020-07-13T00:00:00",
          "2020-07-14T00:00:00",
          "2020-07-15T00:00:00",
          "2020-07-16T00:00:00",
          "2020-07-17T00:00:00",
          "2020-07-20T00:00:00",
          "2020-07-21T00:00:00",
          "2020-07-22T00:00:00",
          "2020-07-23T00:00:00",
          "2020-07-24T00:00:00",
          "2020-07-27T00:00:00",
          "2020-07-28T00:00:00",
          "2020-07-29T00:00:00",
          "2020-07-30T00:00:00",
          "2020-07-31T00:00:00",
          "2020-08-03T00:00:00",
          "2020-08-04T00:00:00",
          "2020-08-05T00:00:00",
          "2020-08-06T00:00:00",
          "2020-08-07T00:00:00",
          "2020-08-10T00:00:00",
          "2020-08-11T00:00:00",
          "2020-08-12T00:00:00",
          "2020-08-13T00:00:00",
          "2020-08-14T00:00:00",
          "2020-08-17T00:00:00",
          "2020-08-18T00:00:00",
          "2020-08-19T00:00:00",
          "2020-08-20T00:00:00",
          "2020-08-21T00:00:00",
          "2020-08-24T00:00:00",
          "2020-08-25T00:00:00",
          "2020-08-26T00:00:00",
          "2020-08-27T00:00:00",
          "2020-08-28T00:00:00",
          "2020-08-31T00:00:00",
          "2020-09-01T00:00:00",
          "2020-09-02T00:00:00",
          "2020-09-03T00:00:00",
          "2020-09-04T00:00:00",
          "2020-09-08T00:00:00",
          "2020-09-09T00:00:00",
          "2020-09-10T00:00:00",
          "2020-09-11T00:00:00",
          "2020-09-14T00:00:00",
          "2020-09-15T00:00:00",
          "2020-09-16T00:00:00",
          "2020-09-17T00:00:00",
          "2020-09-18T00:00:00",
          "2020-09-21T00:00:00",
          "2020-09-22T00:00:00",
          "2020-09-23T00:00:00",
          "2020-09-24T00:00:00",
          "2020-09-25T00:00:00",
          "2020-09-28T00:00:00",
          "2020-09-29T00:00:00",
          "2020-09-30T00:00:00",
          "2020-10-01T00:00:00",
          "2020-10-02T00:00:00",
          "2020-10-05T00:00:00",
          "2020-10-06T00:00:00",
          "2020-10-07T00:00:00",
          "2020-10-08T00:00:00",
          "2020-10-09T00:00:00",
          "2020-10-13T00:00:00",
          "2020-10-14T00:00:00",
          "2020-10-15T00:00:00",
          "2020-10-16T00:00:00",
          "2020-10-19T00:00:00",
          "2020-10-20T00:00:00",
          "2020-10-21T00:00:00",
          "2020-10-22T00:00:00"
         ]
        }
       ],
       "layout": {
        "template": {
         "data": {
          "bar": [
           {
            "error_x": {
             "color": "#2a3f5f"
            },
            "error_y": {
             "color": "#2a3f5f"
            },
            "marker": {
             "line": {
              "color": "#E5ECF6",
              "width": 0.5
             }
            },
            "type": "bar"
           }
          ],
          "barpolar": [
           {
            "marker": {
             "line": {
              "color": "#E5ECF6",
              "width": 0.5
             }
            },
            "type": "barpolar"
           }
          ],
          "carpet": [
           {
            "aaxis": {
             "endlinecolor": "#2a3f5f",
             "gridcolor": "white",
             "linecolor": "white",
             "minorgridcolor": "white",
             "startlinecolor": "#2a3f5f"
            },
            "baxis": {
             "endlinecolor": "#2a3f5f",
             "gridcolor": "white",
             "linecolor": "white",
             "minorgridcolor": "white",
             "startlinecolor": "#2a3f5f"
            },
            "type": "carpet"
           }
          ],
          "choropleth": [
           {
            "colorbar": {
             "outlinewidth": 0,
             "ticks": ""
            },
            "type": "choropleth"
           }
          ],
          "contour": [
           {
            "colorbar": {
             "outlinewidth": 0,
             "ticks": ""
            },
            "colorscale": [
             [
              0,
              "#0d0887"
             ],
             [
              0.1111111111111111,
              "#46039f"
             ],
             [
              0.2222222222222222,
              "#7201a8"
             ],
             [
              0.3333333333333333,
              "#9c179e"
             ],
             [
              0.4444444444444444,
              "#bd3786"
             ],
             [
              0.5555555555555556,
              "#d8576b"
             ],
             [
              0.6666666666666666,
              "#ed7953"
             ],
             [
              0.7777777777777778,
              "#fb9f3a"
             ],
             [
              0.8888888888888888,
              "#fdca26"
             ],
             [
              1,
              "#f0f921"
             ]
            ],
            "type": "contour"
           }
          ],
          "contourcarpet": [
           {
            "colorbar": {
             "outlinewidth": 0,
             "ticks": ""
            },
            "type": "contourcarpet"
           }
          ],
          "heatmap": [
           {
            "colorbar": {
             "outlinewidth": 0,
             "ticks": ""
            },
            "colorscale": [
             [
              0,
              "#0d0887"
             ],
             [
              0.1111111111111111,
              "#46039f"
             ],
             [
              0.2222222222222222,
              "#7201a8"
             ],
             [
              0.3333333333333333,
              "#9c179e"
             ],
             [
              0.4444444444444444,
              "#bd3786"
             ],
             [
              0.5555555555555556,
              "#d8576b"
             ],
             [
              0.6666666666666666,
              "#ed7953"
             ],
             [
              0.7777777777777778,
              "#fb9f3a"
             ],
             [
              0.8888888888888888,
              "#fdca26"
             ],
             [
              1,
              "#f0f921"
             ]
            ],
            "type": "heatmap"
           }
          ],
          "heatmapgl": [
           {
            "colorbar": {
             "outlinewidth": 0,
             "ticks": ""
            },
            "colorscale": [
             [
              0,
              "#0d0887"
             ],
             [
              0.1111111111111111,
              "#46039f"
             ],
             [
              0.2222222222222222,
              "#7201a8"
             ],
             [
              0.3333333333333333,
              "#9c179e"
             ],
             [
              0.4444444444444444,
              "#bd3786"
             ],
             [
              0.5555555555555556,
              "#d8576b"
             ],
             [
              0.6666666666666666,
              "#ed7953"
             ],
             [
              0.7777777777777778,
              "#fb9f3a"
             ],
             [
              0.8888888888888888,
              "#fdca26"
             ],
             [
              1,
              "#f0f921"
             ]
            ],
            "type": "heatmapgl"
           }
          ],
          "histogram": [
           {
            "marker": {
             "colorbar": {
              "outlinewidth": 0,
              "ticks": ""
             }
            },
            "type": "histogram"
           }
          ],
          "histogram2d": [
           {
            "colorbar": {
             "outlinewidth": 0,
             "ticks": ""
            },
            "colorscale": [
             [
              0,
              "#0d0887"
             ],
             [
              0.1111111111111111,
              "#46039f"
             ],
             [
              0.2222222222222222,
              "#7201a8"
             ],
             [
              0.3333333333333333,
              "#9c179e"
             ],
             [
              0.4444444444444444,
              "#bd3786"
             ],
             [
              0.5555555555555556,
              "#d8576b"
             ],
             [
              0.6666666666666666,
              "#ed7953"
             ],
             [
              0.7777777777777778,
              "#fb9f3a"
             ],
             [
              0.8888888888888888,
              "#fdca26"
             ],
             [
              1,
              "#f0f921"
             ]
            ],
            "type": "histogram2d"
           }
          ],
          "histogram2dcontour": [
           {
            "colorbar": {
             "outlinewidth": 0,
             "ticks": ""
            },
            "colorscale": [
             [
              0,
              "#0d0887"
             ],
             [
              0.1111111111111111,
              "#46039f"
             ],
             [
              0.2222222222222222,
              "#7201a8"
             ],
             [
              0.3333333333333333,
              "#9c179e"
             ],
             [
              0.4444444444444444,
              "#bd3786"
             ],
             [
              0.5555555555555556,
              "#d8576b"
             ],
             [
              0.6666666666666666,
              "#ed7953"
             ],
             [
              0.7777777777777778,
              "#fb9f3a"
             ],
             [
              0.8888888888888888,
              "#fdca26"
             ],
             [
              1,
              "#f0f921"
             ]
            ],
            "type": "histogram2dcontour"
           }
          ],
          "mesh3d": [
           {
            "colorbar": {
             "outlinewidth": 0,
             "ticks": ""
            },
            "type": "mesh3d"
           }
          ],
          "parcoords": [
           {
            "line": {
             "colorbar": {
              "outlinewidth": 0,
              "ticks": ""
             }
            },
            "type": "parcoords"
           }
          ],
          "pie": [
           {
            "automargin": true,
            "type": "pie"
           }
          ],
          "scatter": [
           {
            "marker": {
             "colorbar": {
              "outlinewidth": 0,
              "ticks": ""
             }
            },
            "type": "scatter"
           }
          ],
          "scatter3d": [
           {
            "line": {
             "colorbar": {
              "outlinewidth": 0,
              "ticks": ""
             }
            },
            "marker": {
             "colorbar": {
              "outlinewidth": 0,
              "ticks": ""
             }
            },
            "type": "scatter3d"
           }
          ],
          "scattercarpet": [
           {
            "marker": {
             "colorbar": {
              "outlinewidth": 0,
              "ticks": ""
             }
            },
            "type": "scattercarpet"
           }
          ],
          "scattergeo": [
           {
            "marker": {
             "colorbar": {
              "outlinewidth": 0,
              "ticks": ""
             }
            },
            "type": "scattergeo"
           }
          ],
          "scattergl": [
           {
            "marker": {
             "colorbar": {
              "outlinewidth": 0,
              "ticks": ""
             }
            },
            "type": "scattergl"
           }
          ],
          "scattermapbox": [
           {
            "marker": {
             "colorbar": {
              "outlinewidth": 0,
              "ticks": ""
             }
            },
            "type": "scattermapbox"
           }
          ],
          "scatterpolar": [
           {
            "marker": {
             "colorbar": {
              "outlinewidth": 0,
              "ticks": ""
             }
            },
            "type": "scatterpolar"
           }
          ],
          "scatterpolargl": [
           {
            "marker": {
             "colorbar": {
              "outlinewidth": 0,
              "ticks": ""
             }
            },
            "type": "scatterpolargl"
           }
          ],
          "scatterternary": [
           {
            "marker": {
             "colorbar": {
              "outlinewidth": 0,
              "ticks": ""
             }
            },
            "type": "scatterternary"
           }
          ],
          "surface": [
           {
            "colorbar": {
             "outlinewidth": 0,
             "ticks": ""
            },
            "colorscale": [
             [
              0,
              "#0d0887"
             ],
             [
              0.1111111111111111,
              "#46039f"
             ],
             [
              0.2222222222222222,
              "#7201a8"
             ],
             [
              0.3333333333333333,
              "#9c179e"
             ],
             [
              0.4444444444444444,
              "#bd3786"
             ],
             [
              0.5555555555555556,
              "#d8576b"
             ],
             [
              0.6666666666666666,
              "#ed7953"
             ],
             [
              0.7777777777777778,
              "#fb9f3a"
             ],
             [
              0.8888888888888888,
              "#fdca26"
             ],
             [
              1,
              "#f0f921"
             ]
            ],
            "type": "surface"
           }
          ],
          "table": [
           {
            "cells": {
             "fill": {
              "color": "#EBF0F8"
             },
             "line": {
              "color": "white"
             }
            },
            "header": {
             "fill": {
              "color": "#C8D4E3"
             },
             "line": {
              "color": "white"
             }
            },
            "type": "table"
           }
          ]
         },
         "layout": {
          "annotationdefaults": {
           "arrowcolor": "#2a3f5f",
           "arrowhead": 0,
           "arrowwidth": 1
          },
          "coloraxis": {
           "colorbar": {
            "outlinewidth": 0,
            "ticks": ""
           }
          },
          "colorscale": {
           "diverging": [
            [
             0,
             "#8e0152"
            ],
            [
             0.1,
             "#c51b7d"
            ],
            [
             0.2,
             "#de77ae"
            ],
            [
             0.3,
             "#f1b6da"
            ],
            [
             0.4,
             "#fde0ef"
            ],
            [
             0.5,
             "#f7f7f7"
            ],
            [
             0.6,
             "#e6f5d0"
            ],
            [
             0.7,
             "#b8e186"
            ],
            [
             0.8,
             "#7fbc41"
            ],
            [
             0.9,
             "#4d9221"
            ],
            [
             1,
             "#276419"
            ]
           ],
           "sequential": [
            [
             0,
             "#0d0887"
            ],
            [
             0.1111111111111111,
             "#46039f"
            ],
            [
             0.2222222222222222,
             "#7201a8"
            ],
            [
             0.3333333333333333,
             "#9c179e"
            ],
            [
             0.4444444444444444,
             "#bd3786"
            ],
            [
             0.5555555555555556,
             "#d8576b"
            ],
            [
             0.6666666666666666,
             "#ed7953"
            ],
            [
             0.7777777777777778,
             "#fb9f3a"
            ],
            [
             0.8888888888888888,
             "#fdca26"
            ],
            [
             1,
             "#f0f921"
            ]
           ],
           "sequentialminus": [
            [
             0,
             "#0d0887"
            ],
            [
             0.1111111111111111,
             "#46039f"
            ],
            [
             0.2222222222222222,
             "#7201a8"
            ],
            [
             0.3333333333333333,
             "#9c179e"
            ],
            [
             0.4444444444444444,
             "#bd3786"
            ],
            [
             0.5555555555555556,
             "#d8576b"
            ],
            [
             0.6666666666666666,
             "#ed7953"
            ],
            [
             0.7777777777777778,
             "#fb9f3a"
            ],
            [
             0.8888888888888888,
             "#fdca26"
            ],
            [
             1,
             "#f0f921"
            ]
           ]
          },
          "colorway": [
           "#636efa",
           "#EF553B",
           "#00cc96",
           "#ab63fa",
           "#FFA15A",
           "#19d3f3",
           "#FF6692",
           "#B6E880",
           "#FF97FF",
           "#FECB52"
          ],
          "font": {
           "color": "#2a3f5f"
          },
          "geo": {
           "bgcolor": "white",
           "lakecolor": "white",
           "landcolor": "#E5ECF6",
           "showlakes": true,
           "showland": true,
           "subunitcolor": "white"
          },
          "hoverlabel": {
           "align": "left"
          },
          "hovermode": "closest",
          "mapbox": {
           "style": "light"
          },
          "paper_bgcolor": "white",
          "plot_bgcolor": "#E5ECF6",
          "polar": {
           "angularaxis": {
            "gridcolor": "white",
            "linecolor": "white",
            "ticks": ""
           },
           "bgcolor": "#E5ECF6",
           "radialaxis": {
            "gridcolor": "white",
            "linecolor": "white",
            "ticks": ""
           }
          },
          "scene": {
           "xaxis": {
            "backgroundcolor": "#E5ECF6",
            "gridcolor": "white",
            "gridwidth": 2,
            "linecolor": "white",
            "showbackground": true,
            "ticks": "",
            "zerolinecolor": "white"
           },
           "yaxis": {
            "backgroundcolor": "#E5ECF6",
            "gridcolor": "white",
            "gridwidth": 2,
            "linecolor": "white",
            "showbackground": true,
            "ticks": "",
            "zerolinecolor": "white"
           },
           "zaxis": {
            "backgroundcolor": "#E5ECF6",
            "gridcolor": "white",
            "gridwidth": 2,
            "linecolor": "white",
            "showbackground": true,
            "ticks": "",
            "zerolinecolor": "white"
           }
          },
          "shapedefaults": {
           "line": {
            "color": "#2a3f5f"
           }
          },
          "ternary": {
           "aaxis": {
            "gridcolor": "white",
            "linecolor": "white",
            "ticks": ""
           },
           "baxis": {
            "gridcolor": "white",
            "linecolor": "white",
            "ticks": ""
           },
           "bgcolor": "#E5ECF6",
           "caxis": {
            "gridcolor": "white",
            "linecolor": "white",
            "ticks": ""
           }
          },
          "title": {
           "x": 0.05
          },
          "xaxis": {
           "automargin": true,
           "gridcolor": "white",
           "linecolor": "white",
           "ticks": "",
           "title": {
            "standoff": 15
           },
           "zerolinecolor": "white",
           "zerolinewidth": 2
          },
          "yaxis": {
           "automargin": true,
           "gridcolor": "white",
           "linecolor": "white",
           "ticks": "",
           "title": {
            "standoff": 15
           },
           "zerolinecolor": "white",
           "zerolinewidth": 2
          }
         }
        }
       }
      },
      "text/html": [
       "<div>                            <div id=\"63be4300-2a99-4d0a-80d5-fb6d8011b0bf\" class=\"plotly-graph-div\" style=\"height:525px; width:100%;\"></div>            <script type=\"text/javascript\">                require([\"plotly\"], function(Plotly) {                    window.PLOTLYENV=window.PLOTLYENV || {};                                    if (document.getElementById(\"63be4300-2a99-4d0a-80d5-fb6d8011b0bf\")) {                    Plotly.newPlot(                        \"63be4300-2a99-4d0a-80d5-fb6d8011b0bf\",                        [{\"close\": [12.010077476501465, 11.902953147888184, 11.912691116333008, 11.878606796264648, 12.243802070617676, 12.67960262298584, 12.611433029174805, 13.20305061340332, 13.147053718566895, 13.064275741577148, 13.015582084655762, 13.23226547241211, 13.633981704711914, 13.612070083618164, 13.558506965637207, 13.775190353393555, 13.670501708984375, 13.098360061645508, 13.875011444091797, 13.948050498962402, 13.75571346282959, 13.585288047790527, 13.763017654418945, 14.038131713867188, 13.950484275817871, 13.592592239379883, 13.20305061340332, 12.752641677856445, 13.212789535522461, 13.61937427520752, 13.889618873596191, 13.714325904846191, 14.327853202819824, 14.174471855163574, 14.086824417114258, 13.76545238494873, 13.743539810180664, 12.234063148498535, 12.299798965454102, 12.794031143188477, 12.867070198059082, 12.769684791564941, 11.635143280029297, 11.036221504211426, 9.82620620727539, 11.4403715133667, 10.488428115844727, 8.277775764465332, 10.225486755371094, 8.294817924499512, 8.660012245178223, 7.014195919036865, 7.43782377243042, 7.462170124053955, 7.355045795440674, 8.930257797241211, 9.738558769226074, 10.011238098144531, 9.495094299316406, 10.128100395202637, 9.492660522460938, 9.125029563903809, 8.737921714782715, 8.652709007263184, 9.300323486328125, 9.760470390319824, 10.215746879577637, 10.140275001525879, 10.203574180603027, 10.626667976379395, 10.861989974975586, 11.288046836853027, 11.045292854309082, 12.00887680053711, 12.521632194519043, 12.254108428955078, 11.736398696899414, 12.261539459228516, 12.831267356872559, 12.538971900939941, 12.311079978942871, 12.74209213256836, 12.434934616088867, 13.661088943481445, 14.067329406738281, 13.757694244384766, 13.611547470092773, 13.574390411376953, 13.648702621459961, 13.747786521911621, 13.656134605407715, 13.809713363647461, 14.510726928710938, 14.09457778930664, 14.438891410827637, 14.28035831451416, 14.961555480957031, 15.972203254699707, 16.68560218811035, 16.162939071655273, 15.940000534057617, 15.77899169921875, 15.308345794677734, 15.45201587677002, 14.983848571777344, 14.726232528686523, 15.45201587677002, 15.45201587677002, 16.001928329467773, 15.840917587280273, 16.311561584472656, 16.348718643188477, 16.643491744995117, 17.26523780822754, 17.68634033203125, 17.562488555908203, 17.401477813720703, 17.290010452270508, 17.26276206970215, 17.178539276123047, 17.441110610961914, 17.748268127441406, 17.909278869628906, 17.364320755004883, 17.8349666595459, 17.832487106323242, 18.508731842041016, 18.99919319152832, 19.66800308227539, 19.861215591430664, 19.94048309326172, 19.94048309326172, 20.18819236755371, 19.861215591430664, 20.312044143676758, 21.550582885742188, 20.881772994995117, 20.968469619750977, 19.915712356567383, 19.73488426208496, 19.65561866760254, 19.915712356567383, 19.8686466217041, 20.631587982177734, 20.083322525024414, 20.642499923706055, 20.625, 20.75, 21.477500915527344, 21.412500381469727, 20.482500076293945, 20.247499465942383, 20.014999389648438, 20.112499237060547, 20.440000534057617, 20.412500381469727, 22.375, 22.424999237060547, 21.837499618530273, 21.837499618530273, 21.770000457763672, 22.0, 22.537500381469727, 22.9950008392334, 23.645000457763672, 23.30500030517578, 23.832500457763672, 23.377500534057617, 22.125, 22.1924991607666, 21.922500610351562, 22.799999237060547, 22.0625, 21.892499923706055, 22.575000762939453, 22.395000457763672, 22.292499542236328, 21.774999618530273, 21.790000915527344, 22.174999237060547, 22.372499465942383, 21.6200008392334, 22.325000762939453, 22.657499313354492, 21.86750030517578, 21.8700008392334, 22.299999237060547, 22.975000381469727, 22.012500762939453, 22.53499984741211, 22.325000762939453, 22.235000610351562, 22.967500686645508, 24.537500381469727, 26.0, 25.68000030517578, 25.510000228881836, 25.8700008392334, 25.690000534057617, 26.040000915527344, 26.219999313354492, 26.100000381469727], \"high\": [12.332500457763672, 12.332500457763672, 12.327500343322754, 12.300000190734863, 12.587499618530273, 13.057499885559082, 13.262499809265137, 13.557499885559082, 13.762499809265137, 13.59000015258789, 13.680000305175781, 13.607500076293945, 14.0, 14.1850004196167, 14.274999618530273, 14.180000305175781, 14.262499809265137, 13.824999809265137, 14.2475004196167, 14.522500038146973, 14.175000190734863, 14.287500381469727, 14.237500190734863, 14.667499542236328, 14.710000038146973, 14.537500381469727, 13.982500076293945, 13.882499694824219, 13.699999809265137, 14.137499809265137, 14.324999809265137, 14.489999771118164, 14.979999542236328, 14.774999618530273, 14.725000381469727, 14.532500267028809, 14.454999923706055, 13.350000381469727, 12.630000114440918, 13.359999656677246, 13.699999809265137, 13.614999771118164, 13.0, 11.602499961853027, 10.59000015258789, 11.7524995803833, 11.692500114440918, 9.707500457763672, 10.6899995803833, 9.977499961853027, 9.420000076293945, 8.404999732971191, 7.84250020980835, 9.017499923706055, 8.232500076293945, 9.447500228881836, 10.837499618530273, 11.100000381469727, 10.1850004196167, 10.505000114440918, 10.800000190734863, 9.782500267028809, 9.675000190734863, 8.912500381469727, 9.845000267028809, 10.649999618530273, 10.550000190734863, 10.925000190734863, 10.524999618530273, 10.850000381469727, 11.079999923706055, 11.5, 11.72249984741211, 12.137499809265137, 13.045000076293945, 13.125, 12.287500381469727, 12.5, 12.949999809265137, 13.22249984741211, 12.887499809265137, 12.920000076293945, 13.199999809265137, 14.020000457763672, 14.550000190734863, 14.479999542236328, 14.137499809265137, 14.25, 13.984999656677246, 13.927499771118164, 14.0625, 14.172499656677246, 14.8125, 14.875, 14.774999618530273, 14.824999809265137, 15.25, 17.032499313354492, 16.9424991607666, 16.885000228881836, 16.422500610351562, 16.165000915527344, 16.2450008392334, 15.869999885559082, 15.537500381469727, 15.522500038146973, 15.819999694824219, 15.922499656677246, 16.264999389648438, 16.25, 16.462499618530273, 16.86750030517578, 17.165000915527344, 17.729999542236328, 17.934999465942383, 18.084999084472656, 18.022499084472656, 17.895000457763672, 17.674999237060547, 17.727500915527344, 17.602500915527344, 18.225000381469727, 18.125, 18.3125, 18.012500762939453, 18.295000076293945, 18.697500228881836, 19.174999237060547, 19.895000457763672, 20.25, 20.549999237060547, 20.587499618530273, 20.475000381469727, 20.450000762939453, 20.55500030517578, 21.790000915527344, 22.375, 21.514999389648438, 21.350000381469727, 19.975000381469727, 20.487499237060547, 20.274999618530273, 20.354999542236328, 20.862499237060547, 21.1875, 20.700000762939453, 20.799999237060547, 21.107500076293945, 21.547500610351562, 21.875, 21.575000762939453, 20.747499465942383, 20.532499313354492, 21.0, 20.607500076293945, 20.86750030517578, 22.450000762939453, 22.5575008392334, 22.0674991607666, 22.174999237060547, 22.270000457763672, 22.177499771118164, 22.875, 23.030000686645508, 23.645000457763672, 23.6299991607666, 24.0625, 24.104999542236328, 23.575000762939453, 22.610000610351562, 22.377500534057617, 22.857500076293945, 23.422500610351562, 22.600000381469727, 22.967500686645508, 23.110000610351562, 22.725000381469727, 22.325000762939453, 22.387500762939453, 22.287500381469727, 22.545000076293945, 22.49250030517578, 22.447500228881836, 22.774999618530273, 23.06999969482422, 22.212499618530273, 22.475000381469727, 22.975000381469727, 22.94499969482422, 22.674999237060547, 22.799999237060547, 22.6924991607666, 23.0, 24.537500381469727, 26.100000381469727, 27.25, 26.06999969482422, 26.049999237060547, 26.299999237060547, 26.139999389648438, 26.799999237060547, 26.399999618530273], \"low\": [11.927499771118164, 12.074999809265137, 11.949999809265137, 12.125, 12.125, 12.604999542236328, 12.762499809265137, 13.037500381469727, 13.399999618530273, 13.300000190734863, 13.074999809265137, 13.274999618530273, 13.512499809265137, 13.90250015258789, 13.707500457763672, 13.732500076293945, 14.0, 13.4375, 13.5024995803833, 14.162500381469727, 13.755000114440918, 13.800000190734863, 13.914999961853027, 14.282500267028809, 14.257499694824219, 13.949999809265137, 13.375, 12.885000228881836, 12.932499885559082, 13.5625, 13.524999618530273, 14.0, 14.287500381469727, 14.375, 14.40250015258789, 13.957500457763672, 13.850000381469727, 12.505000114440918, 11.805000305175781, 12.454999923706055, 12.917499542236328, 12.967499732971191, 11.649999618530273, 10.762499809265137, 9.694999694824219, 10.569999694824219, 9.975000381469727, 7.642499923706055, 8.552499771118164, 8.517499923706055, 8.212499618530273, 6.617499828338623, 6.25, 7.662499904632568, 7.389999866485596, 8.430000305175781, 9.180000305175781, 10.0649995803833, 9.412500381469727, 9.949999809265137, 9.702500343322754, 9.017499923706055, 8.77750015258789, 8.332500457763672, 9.305000305175781, 10.022500038146973, 9.859999656677246, 10.3149995803833, 10.167499542236328, 10.585000038146973, 10.375, 11.050000190734863, 10.975000381469727, 10.8125, 12.274999618530273, 12.145000457763672, 10.670000076293945, 12.0, 12.537500381469727, 12.537500381469727, 12.27750015258789, 11.827500343322754, 12.537500381469727, 13.005000114440918, 13.34749984741211, 13.6875, 13.640000343322754, 13.515000343322754, 13.607500076293945, 13.449999809265137, 13.574999809265137, 13.774999618530273, 13.925000190734863, 14.220000267028809, 14.270000457763672, 14.287500381469727, 14.720000267028809, 15.787500381469727, 16.1875, 16.125, 16.0, 15.6875, 15.352499961853027, 15.045000076293945, 15.0024995803833, 14.630000114440918, 14.824999809265137, 15.225000381469727, 15.28499984741211, 15.6274995803833, 15.555000305175781, 16.149999618530273, 16.482500076293945, 16.479999542236328, 17.604999542236328, 17.547500610351562, 17.5625, 17.049999237060547, 17.184999465942383, 17.162500381469727, 17.087499618530273, 17.40999984741211, 17.725000381469727, 17.524999618530273, 17.325000762939453, 17.899999618530273, 17.767499923706055, 18.704999923706055, 19.059999465942383, 19.737499237060547, 20.052499771118164, 19.860000610351562, 20.217500686645508, 19.78499984741211, 20.1200008392334, 20.52750015258789, 20.93000030517578, 20.540000915527344, 19.625, 19.302499771118164, 19.625, 19.6299991607666, 19.8799991607666, 19.767499923706055, 20.0, 19.940000534057617, 20.204999923706055, 20.725000381469727, 20.875, 21.084999084472656, 20.280000686645508, 20.0575008392334, 19.799999237060547, 19.864999771118164, 20.049999237060547, 19.84749984741211, 21.002500534057617, 22.05500030517578, 21.537500381469727, 21.600000381469727, 21.65250015258789, 21.852500915527344, 21.989999771118164, 22.604999542236328, 22.975000381469727, 23.09000015258789, 23.417499542236328, 23.25, 21.799999237060547, 20.86750030517578, 21.375, 22.25749969482422, 21.75, 21.780000686645508, 22.25, 22.270000457763672, 22.157499313354492, 21.665000915527344, 21.510000228881836, 21.082500457763672, 21.875, 21.552499771118164, 21.424999237060547, 21.875, 21.7549991607666, 21.639999389648438, 21.809999465942383, 22.302499771118164, 21.899999618530273, 22.065000534057617, 22.21500015258789, 22.225000381469727, 22.274999618530273, 22.899999618530273, 24.875, 25.040000915527344, 25.0, 25.15999984741211, 25.350000381469727, 25.649999618530273, 25.959999084472656, 26.0], \"open\": [12.074999809265137, 12.125, 12.100000381469727, 12.234999656677246, 12.154999732971191, 12.625, 13.022500038146973, 13.050000190734863, 13.5, 13.420000076293945, 13.550000190734863, 13.449999809265137, 13.529999732971191, 13.930000305175781, 14.1274995803833, 13.920000076293945, 14.192500114440918, 13.762499809265137, 13.5024995803833, 14.3774995803833, 14.092499732971191, 13.90999984741211, 14.119999885559082, 14.399999618530273, 14.625, 14.5, 13.925000190734863, 13.5, 13.300000190734863, 13.632499694824219, 13.729999542236328, 14.399999618530273, 14.5, 14.5625, 14.587499618530273, 14.482500076293945, 13.912500381469727, 13.0, 12.25, 12.675000190734863, 13.170000076293945, 13.600000381469727, 13.0, 11.032500267028809, 9.755000114440918, 11.25, 11.25, 9.0, 10.625, 8.75, 9.029999732971191, 8.005000114440918, 6.875, 8.199999809265137, 8.125, 8.430000305175781, 9.225000381469727, 10.15999984741211, 9.672499656677246, 10.25, 10.619999885559082, 9.350000381469727, 9.555000305175781, 8.835000038146973, 9.600000381469727, 10.359999656677246, 10.067500114440918, 10.704999923706055, 10.272500038146973, 10.725000381469727, 10.524999618530273, 11.162500381469727, 11.670000076293945, 10.930000305175781, 12.375, 12.96500015258789, 12.09749984741211, 12.307499885559082, 12.75, 13.149999618530273, 12.46500015258789, 12.0, 13.037500381469727, 13.055000305175781, 14.125, 14.479999542236328, 13.859999656677246, 13.875, 13.899999618530273, 13.699999809265137, 13.75, 14.1225004196167, 13.984999656677246, 14.75, 14.399999618530273, 14.47249984741211, 14.800000190734863, 15.800000190734863, 16.71500015258789, 16.8125, 16.325000762939453, 16.0, 16.15250015258789, 15.720000267028809, 15.407500267028809, 15.5, 15.0024995803833, 15.295000076293945, 15.75, 15.704999923706055, 15.710000038146973, 16.649999618530273, 16.602500915527344, 16.795000076293945, 17.7450008392334, 17.905000686645508, 17.889999389648438, 17.549999237060547, 17.477500915527344, 17.372499465942383, 17.542499542236328, 17.457500457763672, 17.9950008392334, 18.1875, 17.549999237060547, 18.202499389648438, 17.975000381469727, 18.8125, 19.25, 19.822500228881836, 20.15250015258789, 20.1875, 20.325000762939453, 20.274999618530273, 20.125, 20.59000015258789, 22.177499771118164, 21.0, 21.270000457763672, 19.969999313354492, 20.162500381469727, 19.829999923706055, 20.24250030517578, 19.799999237060547, 21.049999237060547, 20.302499771118164, 20.362499237060547, 20.825000762939453, 21.0, 21.299999237060547, 21.545000076293945, 20.674999237060547, 20.327499389648438, 20.149999618530273, 20.15250015258789, 20.625, 21.375, 22.252500534057617, 22.040000915527344, 21.739999771118164, 22.045000076293945, 21.975000381469727, 22.02750015258789, 22.604999542236328, 23.125, 23.627500534057617, 23.549999237060547, 23.975000381469727, 23.452499389648438, 22.362499237060547, 21.762500762939453, 22.25749969482422, 22.844999313354492, 22.34000015258789, 22.299999237060547, 22.852500915527344, 22.454999923706055, 22.147499084472656, 21.899999618530273, 21.3075008392334, 22.399999618530273, 22.372499465942383, 21.725000381469727, 22.102500915527344, 22.899999618530273, 21.885000228881836, 22.02750015258789, 22.334999084472656, 22.762500762939453, 22.2450008392334, 22.75, 22.424999237060547, 22.450000762939453, 22.975000381469727, 24.88249969482422, 26.5, 25.020000457763672, 25.760000228881836, 26.110000610351562, 25.799999237060547, 26.0, 26.350000381469727], \"type\": \"candlestick\", \"x\": [\"2020-01-02T00:00:00\", \"2020-01-03T00:00:00\", \"2020-01-06T00:00:00\", \"2020-01-07T00:00:00\", \"2020-01-08T00:00:00\", \"2020-01-09T00:00:00\", \"2020-01-10T00:00:00\", \"2020-01-13T00:00:00\", \"2020-01-14T00:00:00\", \"2020-01-15T00:00:00\", \"2020-01-16T00:00:00\", \"2020-01-17T00:00:00\", \"2020-01-20T00:00:00\", \"2020-01-21T00:00:00\", \"2020-01-22T00:00:00\", \"2020-01-23T00:00:00\", \"2020-01-24T00:00:00\", \"2020-01-27T00:00:00\", \"2020-01-28T00:00:00\", \"2020-01-29T00:00:00\", \"2020-01-30T00:00:00\", \"2020-01-31T00:00:00\", \"2020-02-03T00:00:00\", \"2020-02-04T00:00:00\", \"2020-02-05T00:00:00\", \"2020-02-06T00:00:00\", \"2020-02-07T00:00:00\", \"2020-02-10T00:00:00\", \"2020-02-11T00:00:00\", \"2020-02-12T00:00:00\", \"2020-02-13T00:00:00\", \"2020-02-14T00:00:00\", \"2020-02-17T00:00:00\", \"2020-02-18T00:00:00\", \"2020-02-19T00:00:00\", \"2020-02-20T00:00:00\", \"2020-02-21T00:00:00\", \"2020-02-27T00:00:00\", \"2020-02-28T00:00:00\", \"2020-03-02T00:00:00\", \"2020-03-03T00:00:00\", \"2020-03-04T00:00:00\", \"2020-03-05T00:00:00\", \"2020-03-06T00:00:00\", \"2020-03-09T00:00:00\", \"2020-03-10T00:00:00\", \"2020-03-11T00:00:00\", \"2020-03-12T00:00:00\", \"2020-03-13T00:00:00\", \"2020-03-16T00:00:00\", \"2020-03-17T00:00:00\", \"2020-03-18T00:00:00\", \"2020-03-19T00:00:00\", \"2020-03-20T00:00:00\", \"2020-03-23T00:00:00\", \"2020-03-24T00:00:00\", \"2020-03-25T00:00:00\", \"2020-03-26T00:00:00\", \"2020-03-27T00:00:00\", \"2020-03-30T00:00:00\", \"2020-03-31T00:00:00\", \"2020-04-01T00:00:00\", \"2020-04-02T00:00:00\", \"2020-04-03T00:00:00\", \"2020-04-06T00:00:00\", \"2020-04-07T00:00:00\", \"2020-04-08T00:00:00\", \"2020-04-09T00:00:00\", \"2020-04-13T00:00:00\", \"2020-04-14T00:00:00\", \"2020-04-15T00:00:00\", \"2020-04-16T00:00:00\", \"2020-04-17T00:00:00\", \"2020-04-20T00:00:00\", \"2020-04-22T00:00:00\", \"2020-04-23T00:00:00\", \"2020-04-24T00:00:00\", \"2020-04-27T00:00:00\", \"2020-04-28T00:00:00\", \"2020-04-29T00:00:00\", \"2020-04-30T00:00:00\", \"2020-05-04T00:00:00\", \"2020-05-05T00:00:00\", \"2020-05-06T00:00:00\", \"2020-05-07T00:00:00\", \"2020-05-08T00:00:00\", \"2020-05-11T00:00:00\", \"2020-05-12T00:00:00\", \"2020-05-13T00:00:00\", \"2020-05-14T00:00:00\", \"2020-05-15T00:00:00\", \"2020-05-18T00:00:00\", \"2020-05-19T00:00:00\", \"2020-05-20T00:00:00\", \"2020-05-21T00:00:00\", \"2020-05-22T00:00:00\", \"2020-05-25T00:00:00\", \"2020-05-26T00:00:00\", \"2020-05-27T00:00:00\", \"2020-05-28T00:00:00\", \"2020-05-29T00:00:00\", \"2020-06-01T00:00:00\", \"2020-06-02T00:00:00\", \"2020-06-03T00:00:00\", \"2020-06-04T00:00:00\", \"2020-06-05T00:00:00\", \"2020-06-08T00:00:00\", \"2020-06-09T00:00:00\", \"2020-06-10T00:00:00\", \"2020-06-12T00:00:00\", \"2020-06-15T00:00:00\", \"2020-06-16T00:00:00\", \"2020-06-17T00:00:00\", \"2020-06-18T00:00:00\", \"2020-06-19T00:00:00\", \"2020-06-22T00:00:00\", \"2020-06-23T00:00:00\", \"2020-06-24T00:00:00\", \"2020-06-25T00:00:00\", \"2020-06-26T00:00:00\", \"2020-06-29T00:00:00\", \"2020-06-30T00:00:00\", \"2020-07-01T00:00:00\", \"2020-07-02T00:00:00\", \"2020-07-03T00:00:00\", \"2020-07-06T00:00:00\", \"2020-07-07T00:00:00\", \"2020-07-08T00:00:00\", \"2020-07-09T00:00:00\", \"2020-07-10T00:00:00\", \"2020-07-13T00:00:00\", \"2020-07-14T00:00:00\", \"2020-07-15T00:00:00\", \"2020-07-16T00:00:00\", \"2020-07-17T00:00:00\", \"2020-07-20T00:00:00\", \"2020-07-21T00:00:00\", \"2020-07-22T00:00:00\", \"2020-07-23T00:00:00\", \"2020-07-24T00:00:00\", \"2020-07-27T00:00:00\", \"2020-07-28T00:00:00\", \"2020-07-29T00:00:00\", \"2020-07-30T00:00:00\", \"2020-07-31T00:00:00\", \"2020-08-03T00:00:00\", \"2020-08-04T00:00:00\", \"2020-08-05T00:00:00\", \"2020-08-06T00:00:00\", \"2020-08-07T00:00:00\", \"2020-08-10T00:00:00\", \"2020-08-11T00:00:00\", \"2020-08-12T00:00:00\", \"2020-08-13T00:00:00\", \"2020-08-14T00:00:00\", \"2020-08-17T00:00:00\", \"2020-08-18T00:00:00\", \"2020-08-19T00:00:00\", \"2020-08-20T00:00:00\", \"2020-08-21T00:00:00\", \"2020-08-24T00:00:00\", \"2020-08-25T00:00:00\", \"2020-08-26T00:00:00\", \"2020-08-27T00:00:00\", \"2020-08-28T00:00:00\", \"2020-08-31T00:00:00\", \"2020-09-01T00:00:00\", \"2020-09-02T00:00:00\", \"2020-09-03T00:00:00\", \"2020-09-04T00:00:00\", \"2020-09-08T00:00:00\", \"2020-09-09T00:00:00\", \"2020-09-10T00:00:00\", \"2020-09-11T00:00:00\", \"2020-09-14T00:00:00\", \"2020-09-15T00:00:00\", \"2020-09-16T00:00:00\", \"2020-09-17T00:00:00\", \"2020-09-18T00:00:00\", \"2020-09-21T00:00:00\", \"2020-09-22T00:00:00\", \"2020-09-23T00:00:00\", \"2020-09-24T00:00:00\", \"2020-09-25T00:00:00\", \"2020-09-28T00:00:00\", \"2020-09-29T00:00:00\", \"2020-09-30T00:00:00\", \"2020-10-01T00:00:00\", \"2020-10-02T00:00:00\", \"2020-10-05T00:00:00\", \"2020-10-06T00:00:00\", \"2020-10-07T00:00:00\", \"2020-10-08T00:00:00\", \"2020-10-09T00:00:00\", \"2020-10-13T00:00:00\", \"2020-10-14T00:00:00\", \"2020-10-15T00:00:00\", \"2020-10-16T00:00:00\", \"2020-10-19T00:00:00\", \"2020-10-20T00:00:00\", \"2020-10-21T00:00:00\", \"2020-10-22T00:00:00\"]}],                        {\"template\": {\"data\": {\"bar\": [{\"error_x\": {\"color\": \"#2a3f5f\"}, \"error_y\": {\"color\": \"#2a3f5f\"}, \"marker\": {\"line\": {\"color\": \"#E5ECF6\", \"width\": 0.5}}, \"type\": \"bar\"}], \"barpolar\": [{\"marker\": {\"line\": {\"color\": \"#E5ECF6\", \"width\": 0.5}}, \"type\": \"barpolar\"}], \"carpet\": [{\"aaxis\": {\"endlinecolor\": \"#2a3f5f\", \"gridcolor\": \"white\", \"linecolor\": \"white\", \"minorgridcolor\": \"white\", \"startlinecolor\": \"#2a3f5f\"}, \"baxis\": {\"endlinecolor\": \"#2a3f5f\", \"gridcolor\": \"white\", \"linecolor\": \"white\", \"minorgridcolor\": \"white\", \"startlinecolor\": \"#2a3f5f\"}, \"type\": \"carpet\"}], \"choropleth\": [{\"colorbar\": {\"outlinewidth\": 0, \"ticks\": \"\"}, \"type\": \"choropleth\"}], \"contour\": [{\"colorbar\": {\"outlinewidth\": 0, \"ticks\": \"\"}, \"colorscale\": [[0.0, \"#0d0887\"], [0.1111111111111111, \"#46039f\"], [0.2222222222222222, \"#7201a8\"], [0.3333333333333333, \"#9c179e\"], [0.4444444444444444, \"#bd3786\"], [0.5555555555555556, \"#d8576b\"], [0.6666666666666666, \"#ed7953\"], [0.7777777777777778, \"#fb9f3a\"], [0.8888888888888888, \"#fdca26\"], [1.0, \"#f0f921\"]], \"type\": \"contour\"}], \"contourcarpet\": [{\"colorbar\": {\"outlinewidth\": 0, \"ticks\": \"\"}, \"type\": \"contourcarpet\"}], \"heatmap\": [{\"colorbar\": {\"outlinewidth\": 0, \"ticks\": \"\"}, \"colorscale\": [[0.0, \"#0d0887\"], [0.1111111111111111, \"#46039f\"], [0.2222222222222222, \"#7201a8\"], [0.3333333333333333, \"#9c179e\"], [0.4444444444444444, \"#bd3786\"], [0.5555555555555556, \"#d8576b\"], [0.6666666666666666, \"#ed7953\"], [0.7777777777777778, \"#fb9f3a\"], [0.8888888888888888, \"#fdca26\"], [1.0, \"#f0f921\"]], \"type\": \"heatmap\"}], \"heatmapgl\": [{\"colorbar\": {\"outlinewidth\": 0, \"ticks\": \"\"}, \"colorscale\": [[0.0, \"#0d0887\"], [0.1111111111111111, \"#46039f\"], [0.2222222222222222, \"#7201a8\"], [0.3333333333333333, \"#9c179e\"], [0.4444444444444444, \"#bd3786\"], [0.5555555555555556, \"#d8576b\"], [0.6666666666666666, \"#ed7953\"], [0.7777777777777778, \"#fb9f3a\"], [0.8888888888888888, \"#fdca26\"], [1.0, \"#f0f921\"]], \"type\": \"heatmapgl\"}], \"histogram\": [{\"marker\": {\"colorbar\": {\"outlinewidth\": 0, \"ticks\": \"\"}}, \"type\": \"histogram\"}], \"histogram2d\": [{\"colorbar\": {\"outlinewidth\": 0, \"ticks\": \"\"}, \"colorscale\": [[0.0, \"#0d0887\"], [0.1111111111111111, \"#46039f\"], [0.2222222222222222, \"#7201a8\"], [0.3333333333333333, \"#9c179e\"], [0.4444444444444444, \"#bd3786\"], [0.5555555555555556, \"#d8576b\"], [0.6666666666666666, \"#ed7953\"], [0.7777777777777778, \"#fb9f3a\"], [0.8888888888888888, \"#fdca26\"], [1.0, \"#f0f921\"]], \"type\": \"histogram2d\"}], \"histogram2dcontour\": [{\"colorbar\": {\"outlinewidth\": 0, \"ticks\": \"\"}, \"colorscale\": [[0.0, \"#0d0887\"], [0.1111111111111111, \"#46039f\"], [0.2222222222222222, \"#7201a8\"], [0.3333333333333333, \"#9c179e\"], [0.4444444444444444, \"#bd3786\"], [0.5555555555555556, \"#d8576b\"], [0.6666666666666666, \"#ed7953\"], [0.7777777777777778, \"#fb9f3a\"], [0.8888888888888888, \"#fdca26\"], [1.0, \"#f0f921\"]], \"type\": \"histogram2dcontour\"}], \"mesh3d\": [{\"colorbar\": {\"outlinewidth\": 0, \"ticks\": \"\"}, \"type\": \"mesh3d\"}], \"parcoords\": [{\"line\": {\"colorbar\": {\"outlinewidth\": 0, \"ticks\": \"\"}}, \"type\": \"parcoords\"}], \"pie\": [{\"automargin\": true, \"type\": \"pie\"}], \"scatter\": [{\"marker\": {\"colorbar\": {\"outlinewidth\": 0, \"ticks\": \"\"}}, \"type\": \"scatter\"}], \"scatter3d\": [{\"line\": {\"colorbar\": {\"outlinewidth\": 0, \"ticks\": \"\"}}, \"marker\": {\"colorbar\": {\"outlinewidth\": 0, \"ticks\": \"\"}}, \"type\": \"scatter3d\"}], \"scattercarpet\": [{\"marker\": {\"colorbar\": {\"outlinewidth\": 0, \"ticks\": \"\"}}, \"type\": \"scattercarpet\"}], \"scattergeo\": [{\"marker\": {\"colorbar\": {\"outlinewidth\": 0, \"ticks\": \"\"}}, \"type\": \"scattergeo\"}], \"scattergl\": [{\"marker\": {\"colorbar\": {\"outlinewidth\": 0, \"ticks\": \"\"}}, \"type\": \"scattergl\"}], \"scattermapbox\": [{\"marker\": {\"colorbar\": {\"outlinewidth\": 0, \"ticks\": \"\"}}, \"type\": \"scattermapbox\"}], \"scatterpolar\": [{\"marker\": {\"colorbar\": {\"outlinewidth\": 0, \"ticks\": \"\"}}, \"type\": \"scatterpolar\"}], \"scatterpolargl\": [{\"marker\": {\"colorbar\": {\"outlinewidth\": 0, \"ticks\": \"\"}}, \"type\": \"scatterpolargl\"}], \"scatterternary\": [{\"marker\": {\"colorbar\": {\"outlinewidth\": 0, \"ticks\": \"\"}}, \"type\": \"scatterternary\"}], \"surface\": [{\"colorbar\": {\"outlinewidth\": 0, \"ticks\": \"\"}, \"colorscale\": [[0.0, \"#0d0887\"], [0.1111111111111111, \"#46039f\"], [0.2222222222222222, \"#7201a8\"], [0.3333333333333333, \"#9c179e\"], [0.4444444444444444, \"#bd3786\"], [0.5555555555555556, \"#d8576b\"], [0.6666666666666666, \"#ed7953\"], [0.7777777777777778, \"#fb9f3a\"], [0.8888888888888888, \"#fdca26\"], [1.0, \"#f0f921\"]], \"type\": \"surface\"}], \"table\": [{\"cells\": {\"fill\": {\"color\": \"#EBF0F8\"}, \"line\": {\"color\": \"white\"}}, \"header\": {\"fill\": {\"color\": \"#C8D4E3\"}, \"line\": {\"color\": \"white\"}}, \"type\": \"table\"}]}, \"layout\": {\"annotationdefaults\": {\"arrowcolor\": \"#2a3f5f\", \"arrowhead\": 0, \"arrowwidth\": 1}, \"coloraxis\": {\"colorbar\": {\"outlinewidth\": 0, \"ticks\": \"\"}}, \"colorscale\": {\"diverging\": [[0, \"#8e0152\"], [0.1, \"#c51b7d\"], [0.2, \"#de77ae\"], [0.3, \"#f1b6da\"], [0.4, \"#fde0ef\"], [0.5, \"#f7f7f7\"], [0.6, \"#e6f5d0\"], [0.7, \"#b8e186\"], [0.8, \"#7fbc41\"], [0.9, \"#4d9221\"], [1, \"#276419\"]], \"sequential\": [[0.0, \"#0d0887\"], [0.1111111111111111, \"#46039f\"], [0.2222222222222222, \"#7201a8\"], [0.3333333333333333, \"#9c179e\"], [0.4444444444444444, \"#bd3786\"], [0.5555555555555556, \"#d8576b\"], [0.6666666666666666, \"#ed7953\"], [0.7777777777777778, \"#fb9f3a\"], [0.8888888888888888, \"#fdca26\"], [1.0, \"#f0f921\"]], \"sequentialminus\": [[0.0, \"#0d0887\"], [0.1111111111111111, \"#46039f\"], [0.2222222222222222, \"#7201a8\"], [0.3333333333333333, \"#9c179e\"], [0.4444444444444444, \"#bd3786\"], [0.5555555555555556, \"#d8576b\"], [0.6666666666666666, \"#ed7953\"], [0.7777777777777778, \"#fb9f3a\"], [0.8888888888888888, \"#fdca26\"], [1.0, \"#f0f921\"]]}, \"colorway\": [\"#636efa\", \"#EF553B\", \"#00cc96\", \"#ab63fa\", \"#FFA15A\", \"#19d3f3\", \"#FF6692\", \"#B6E880\", \"#FF97FF\", \"#FECB52\"], \"font\": {\"color\": \"#2a3f5f\"}, \"geo\": {\"bgcolor\": \"white\", \"lakecolor\": \"white\", \"landcolor\": \"#E5ECF6\", \"showlakes\": true, \"showland\": true, \"subunitcolor\": \"white\"}, \"hoverlabel\": {\"align\": \"left\"}, \"hovermode\": \"closest\", \"mapbox\": {\"style\": \"light\"}, \"paper_bgcolor\": \"white\", \"plot_bgcolor\": \"#E5ECF6\", \"polar\": {\"angularaxis\": {\"gridcolor\": \"white\", \"linecolor\": \"white\", \"ticks\": \"\"}, \"bgcolor\": \"#E5ECF6\", \"radialaxis\": {\"gridcolor\": \"white\", \"linecolor\": \"white\", \"ticks\": \"\"}}, \"scene\": {\"xaxis\": {\"backgroundcolor\": \"#E5ECF6\", \"gridcolor\": \"white\", \"gridwidth\": 2, \"linecolor\": \"white\", \"showbackground\": true, \"ticks\": \"\", \"zerolinecolor\": \"white\"}, \"yaxis\": {\"backgroundcolor\": \"#E5ECF6\", \"gridcolor\": \"white\", \"gridwidth\": 2, \"linecolor\": \"white\", \"showbackground\": true, \"ticks\": \"\", \"zerolinecolor\": \"white\"}, \"zaxis\": {\"backgroundcolor\": \"#E5ECF6\", \"gridcolor\": \"white\", \"gridwidth\": 2, \"linecolor\": \"white\", \"showbackground\": true, \"ticks\": \"\", \"zerolinecolor\": \"white\"}}, \"shapedefaults\": {\"line\": {\"color\": \"#2a3f5f\"}}, \"ternary\": {\"aaxis\": {\"gridcolor\": \"white\", \"linecolor\": \"white\", \"ticks\": \"\"}, \"baxis\": {\"gridcolor\": \"white\", \"linecolor\": \"white\", \"ticks\": \"\"}, \"bgcolor\": \"#E5ECF6\", \"caxis\": {\"gridcolor\": \"white\", \"linecolor\": \"white\", \"ticks\": \"\"}}, \"title\": {\"x\": 0.05}, \"xaxis\": {\"automargin\": true, \"gridcolor\": \"white\", \"linecolor\": \"white\", \"ticks\": \"\", \"title\": {\"standoff\": 15}, \"zerolinecolor\": \"white\", \"zerolinewidth\": 2}, \"yaxis\": {\"automargin\": true, \"gridcolor\": \"white\", \"linecolor\": \"white\", \"ticks\": \"\", \"title\": {\"standoff\": 15}, \"zerolinecolor\": \"white\", \"zerolinewidth\": 2}}}},                        {\"responsive\": true}                    ).then(function(){\n",
       "                            \n",
       "var gd = document.getElementById('63be4300-2a99-4d0a-80d5-fb6d8011b0bf');\n",
       "var x = new MutationObserver(function (mutations, observer) {{\n",
       "        var display = window.getComputedStyle(gd).display;\n",
       "        if (!display || display === 'none') {{\n",
       "            console.log([gd, 'removed!']);\n",
       "            Plotly.purge(gd);\n",
       "            observer.disconnect();\n",
       "        }}\n",
       "}});\n",
       "\n",
       "// Listen for the removal of the full notebook cells\n",
       "var notebookContainer = gd.closest('#notebook-container');\n",
       "if (notebookContainer) {{\n",
       "    x.observe(notebookContainer, {childList: true});\n",
       "}}\n",
       "\n",
       "// Listen for the clearing of the current output cell\n",
       "var outputEl = gd.closest('.output');\n",
       "if (outputEl) {{\n",
       "    x.observe(outputEl, {childList: true});\n",
       "}}\n",
       "\n",
       "                        })                };                });            </script>        </div>"
      ]
     },
     "metadata": {},
     "output_type": "display_data"
    }
   ],
   "source": [
    "import pandas as pd\n",
    "import pandas_datareader.data as pdr\n",
    "import plotly.graph_objects as go\n",
    "from plotly.offline import iplot\n",
    "%matplotlib inline\n",
    "\n",
    "df = pdr.DataReader('MGLU3.SA', data_source = 'yahoo', start = '2020-01-01', end = '2020-10-22')\n",
    "\n",
    "fig = go.Figure(data=[go.Candlestick(x=df.index,\n",
    "                open=df['Open'],\n",
    "                high=df['High'],\n",
    "                low=df['Low'],\n",
    "                close=df['Adj Close'])])\n",
    "\n",
    "fig.show()"
   ]
  },
  {
   "cell_type": "code",
   "execution_count": 7,
   "metadata": {
    "jupyter": {
     "source_hidden": true
    }
   },
   "outputs": [],
   "source": [
    "def drawdown(return_series: pd.Series):\n",
    "    \"\"\"\n",
    "    Takes a time series of asset returns\n",
    "    Computes and returns a DataFrame that contains:\n",
    "    the wealth index\n",
    "    the previous peaks\n",
    "    percent drawdowns\n",
    "    \"\"\"\n",
    "    wealth_index = 1000*(1+return_series).cumprod()\n",
    "    previous_peaks = wealth_index.cummax()\n",
    "    drawdowns = (wealth_index - previous_peaks)/previous_peaks\n",
    "    return pd.DataFrame({\n",
    "        'Wealth': wealth_index,\n",
    "        'Peaks' : previous_peaks,\n",
    "        'Drawdown': drawdowns\n",
    "    })"
   ]
  },
  {
   "cell_type": "code",
   "execution_count": 10,
   "metadata": {
    "jupyter": {
     "source_hidden": true
    }
   },
   "outputs": [
    {
     "data": {
      "text/plain": [
       "<matplotlib.axes._subplots.AxesSubplot at 0xa7a3a48>"
      ]
     },
     "execution_count": 10,
     "metadata": {},
     "output_type": "execute_result"
    },
    {
     "data": {
      "image/png": "[encoded data removed]",
      "text/plain": [
       "<Figure size 432x288 with 1 Axes>"
      ]
     },
     "metadata": {
      "needs_background": "light"
     },
     "output_type": "display_data"
    }
   ],
   "source": [
    "df_d = df['Adj Close'].pct_change().dropna()\n",
    "\n",
    "drawdown(df_d)['Wealth'].plot()\n",
    "drawdown(df_d)['Peaks'].plot()"
   ]
  },
  {
   "cell_type": "code",
   "execution_count": 11,
   "metadata": {
    "jupyter": {
     "source_hidden": true
    }
   },
   "outputs": [
    {
     "data": {
      "text/plain": [
       "<matplotlib.axes._subplots.AxesSubplot at 0xa7e98f8>"
      ]
     },
     "execution_count": 11,
     "metadata": {},
     "output_type": "execute_result"
    },
    {
     "data": {
      "image/png": "[encoded data removed]",
      "text/plain": [
       "<Figure size 432x288 with 1 Axes>"
      ]
     },
     "metadata": {
      "needs_background": "light"
     },
     "output_type": "display_data"
    }
   ],
   "source": [
    "drawdown(df_d)['Drawdown'].plot()"
   ]
  },
  {
   "cell_type": "code",
   "execution_count": 18,
   "metadata": {
    "jupyter": {
     "source_hidden": true
    }
   },
   "outputs": [],
   "source": [
    "from scipy.stats import norm\n",
    "import numpy as np\n",
    "\n",
    "def semideviation(r):\n",
    "    \"\"\"\n",
    "    Returns the semideviation aka negative semideviation of r\n",
    "    r must be a Series or a DataFrame\n",
    "    \"\"\"\n",
    "    is_negative = r < 0\n",
    "    return r[is_negative].std(ddof=0)\n",
    "    \n",
    "def skewness(r):\n",
    "    \"\"\"\n",
    "    Alternative to scipy.stats.skew()\n",
    "    Computes the skewness of the supplied Series or Dataframe\n",
    "    Returns a flot or a Series\n",
    "    \"\"\"\n",
    "    demeaned_r = r - r.mean()\n",
    "    # use the population standard deviation, so set dof=0\n",
    "    sigma_r = r.std(ddof=0)\n",
    "    exp = (demeaned_r**3).mean()\n",
    "    return exp/sigma_r**3\n",
    "\n",
    "def kurtosis(r):\n",
    "    \"\"\"\n",
    "    Alternative to scipy.stats.kurtosis()\n",
    "    Computes the skewness of the supplied Series or Dataframe\n",
    "    Returns a flot or a Series\n",
    "    \"\"\"\n",
    "    demeaned_r = r - r.mean()\n",
    "    # use the population standard deviation, so set dof=0\n",
    "    sigma_r = r.std(ddof=0)\n",
    "    exp = (demeaned_r**4).mean()\n",
    "    return exp/sigma_r**4\n",
    "\n",
    "def is_normal(r, level=0.01):\n",
    "    \"\"\"\n",
    "    Applies the Jarque-Bera test to determine if a Series is normal or not\n",
    "    Test is applied at the 1% level by default\n",
    "    Returns True if the hypothesisi of normality is accepted, False otherwise\n",
    "    \"\"\"\n",
    "    statistic, p_value = scipy.stats.jarque_bera(r)\n",
    "    return p_value > level\n",
    "\n",
    "def var_historic(r, level=5):\n",
    "    \"\"\"\n",
    "    Returns the historic Value at Risk at a specified level\n",
    "    i.e. returns the number such that \"level\" percent of returns\n",
    "    fall above that number, and the (100-level) percent are above\n",
    "    \"\"\"\n",
    "    # Verifia se eh um DataFrame\n",
    "    if isinstance(r, pd.DataFrame):\n",
    "        return r.aggregate(var_historic, level=level)\n",
    "    # Verifia se eh um DataFrame\n",
    "    elif isinstance(r, pd.Series):\n",
    "        return -np.percentile(r, level)\n",
    "    else:\n",
    "        raise TypeError(\"Expected r to be Series or DataFrame\")\n",
    "\n",
    "def var_gaussian(r, level=5, modified=False):\n",
    "    \"\"\"\n",
    "    Returns theParametric gaussian VaR of a Series or DataFrame\n",
    "    \"\"\"\n",
    "    # Compute the Z assuming it was Gaussian\n",
    "    z = norm.ppf(level/100)\n",
    "    if modified:\n",
    "        # modify the Z score based on observed skewness and kurtosis\n",
    "        s = skewness(r)\n",
    "        k = kurtosis(r)\n",
    "        z = (z +\n",
    "                (z**2 - 1)*s/6 +\n",
    "                (z**3 -3*z)*(k-3)/24 -\n",
    "                (2*z**3 - 5*z)*(s**2)/36\n",
    "            )\n",
    "    \n",
    "    return -(r.mean() + z*r.std(ddof=0))\n",
    "\n",
    "def cvar_historic(r, level=5):\n",
    "    \"\"\"\n",
    "    Computes the Conditional VaR of Series or DataFrame\n",
    "    \"\"\"\n",
    "    if isinstance(r, pd.Series):\n",
    "        is_beyond = r <= - var_historic(r, level=level)\n",
    "        return -r[is_beyond].mean()\n",
    "    elif isinstance(r, pd.DataFrame):\n",
    "        return r.aggregate(cvar_historic, level=level)\n",
    "    else:\n",
    "        raise TypeError(\"Expected r to be Series or DataFrame\")\n",
    "\n",
    "def annualize_rets(r, periods_per_year):\n",
    "    \"\"\"\n",
    "    Annualizes a set of returns\n",
    "    We should infer the periods per year\n",
    "    but that is currently left as an exercise \n",
    "    to the reader\n",
    "    \"\"\"\n",
    "    compounded_growth = (1+r).prod()\n",
    "    n_periods = r.shape[0]\n",
    "    return compounded_growth**(periods_per_year/n_periods) - 1\n",
    "\n",
    "def annualize_vol(r, periods_per_year):\n",
    "    \"\"\"\n",
    "    Annualizes a set of returns\n",
    "    We should infer the periods per year\n",
    "    but that is currently left as an exercise \n",
    "    to the reader\n",
    "    \"\"\"\n",
    "    return r.std()*(periods_per_year**0.5)\n",
    "\n",
    "def sharpe_ratio(r, riskfree_rate, periods_per_year):\n",
    "    \"\"\"\n",
    "    Computes the annualized sharpe ratio of a set of returns\n",
    "    \"\"\"\n",
    "    # convert the anual riskfree rate to per period\n",
    "    rf_per_period = (1+riskfree_rate)**(1/periods_per_year)-1\n",
    "    excess_ret= r - rf_per_period\n",
    "    ann_ex_ret = annualize_rets(excess_ret, periods_per_year)\n",
    "    ann_vol = annualize_vol(r, periods_per_year)\n",
    "    return ann_ex_ret/ann_vol\n",
    "def indicadores(r, riskfree_rate=0.03):\n",
    "    \"\"\"\n",
    "    Return a DataFrame that contains aggregated summary stats for the returns in the columns of r\n",
    "    \"\"\"\n",
    "    ann_r = r.aggregate(annualize_rets, periods_per_year=12)\n",
    "    ann_vol = r.aggregate(annualize_vol, periods_per_year=12)\n",
    "    ann_sr = r.aggregate(sharpe_ratio, riskfree_rate=riskfree_rate, periods_per_year=12)\n",
    "    dd = r.aggregate(lambda r: drawdown(r).Drawdown.min())\n",
    "    skew = r.aggregate(skewness)\n",
    "    kurt = r.aggregate(kurtosis)\n",
    "    cf_var5 = r.aggregate(var_gaussian, modified=True)\n",
    "    hist_cvar5 = r.aggregate(cvar_historic)\n",
    "    return pd.DataFrame({\n",
    "        \"Retorno Anualizado\": ann_r,\n",
    "        \"Volatilidade Anualizado\": ann_vol,\n",
    "        \"Assimetria\": skew,\n",
    "        \"Curtose\": kurt,\n",
    "        \"VaR Cornish-Fisher (5%)\": cf_var5,\n",
    "        \"CVaR Histórico (5%)\": hist_cvar5,\n",
    "        \"Sharpe\": ann_sr,\n",
    "        \"Max Drawdown\": dd\n",
    "    })"
   ]
  },
  {
   "cell_type": "code",
   "execution_count": 19,
   "metadata": {
    "jupyter": {
     "source_hidden": true
    }
   },
   "outputs": [
    {
     "data": {
      "text/html": [
       "<div>\n",
       "<style scoped>\n",
       "    .dataframe tbody tr th:only-of-type {\n",
       "        vertical-align: middle;\n",
       "    }\n",
       "\n",
       "    .dataframe tbody tr th {\n",
       "        vertical-align: top;\n",
       "    }\n",
       "\n",
       "    .dataframe thead th {\n",
       "        text-align: right;\n",
       "    }\n",
       "</style>\n",
       "<table border=\"1\" class=\"dataframe\">\n",
       "  <thead>\n",
       "    <tr style=\"text-align: right;\">\n",
       "      <th></th>\n",
       "      <th>Retorno Anualizado</th>\n",
       "      <th>Volatilidade Anualizado</th>\n",
       "      <th>Assimetria</th>\n",
       "      <th>Curtose</th>\n",
       "      <th>VaR Cornish-Fisher (5%)</th>\n",
       "      <th>CVaR Histórico (5%)</th>\n",
       "      <th>Sharpe</th>\n",
       "      <th>Max Drawdown</th>\n",
       "    </tr>\n",
       "    <tr>\n",
       "      <th>Symbols</th>\n",
       "      <th></th>\n",
       "      <th></th>\n",
       "      <th></th>\n",
       "      <th></th>\n",
       "      <th></th>\n",
       "      <th></th>\n",
       "      <th></th>\n",
       "      <th></th>\n",
       "    </tr>\n",
       "  </thead>\n",
       "  <tbody>\n",
       "    <tr>\n",
       "      <th>MGLU3.SA</th>\n",
       "      <td>0.044691</td>\n",
       "      <td>0.154429</td>\n",
       "      <td>0.015408</td>\n",
       "      <td>11.851552</td>\n",
       "      <td>0.060391</td>\n",
       "      <td>0.099827</td>\n",
       "      <td>0.092390</td>\n",
       "      <td>-0.510450</td>\n",
       "    </tr>\n",
       "    <tr>\n",
       "      <th>VVAR3.SA</th>\n",
       "      <td>0.047174</td>\n",
       "      <td>0.200743</td>\n",
       "      <td>-0.841207</td>\n",
       "      <td>9.704305</td>\n",
       "      <td>0.094766</td>\n",
       "      <td>0.148448</td>\n",
       "      <td>0.082988</td>\n",
       "      <td>-0.753606</td>\n",
       "    </tr>\n",
       "    <tr>\n",
       "      <th>VALE3.SA</th>\n",
       "      <td>0.017412</td>\n",
       "      <td>0.119678</td>\n",
       "      <td>0.855986</td>\n",
       "      <td>13.550535</td>\n",
       "      <td>0.038481</td>\n",
       "      <td>0.076329</td>\n",
       "      <td>-0.102510</td>\n",
       "      <td>-0.405509</td>\n",
       "    </tr>\n",
       "  </tbody>\n",
       "</table>\n",
       "</div>"
      ],
      "text/plain": [
       "          Retorno Anualizado  Volatilidade Anualizado  Assimetria    Curtose  \\\n",
       "Symbols                                                                        \n",
       "MGLU3.SA            0.044691                 0.154429    0.015408  11.851552   \n",
       "VVAR3.SA            0.047174                 0.200743   -0.841207   9.704305   \n",
       "VALE3.SA            0.017412                 0.119678    0.855986  13.550535   \n",
       "\n",
       "          VaR Cornish-Fisher (5%)  CVaR Histórico (5%)    Sharpe  Max Drawdown  \n",
       "Symbols                                                                         \n",
       "MGLU3.SA                 0.060391             0.099827  0.092390     -0.510450  \n",
       "VVAR3.SA                 0.094766             0.148448  0.082988     -0.753606  \n",
       "VALE3.SA                 0.038481             0.076329 -0.102510     -0.405509  "
      ]
     },
     "execution_count": 19,
     "metadata": {},
     "output_type": "execute_result"
    }
   ],
   "source": [
    "df_s = pdr.DataReader(['MGLU3.SA', 'VVAR3.SA', 'VALE3.SA'], data_source = 'yahoo', start = '2019-10-22', end = '2020-10-22')\n",
    "\n",
    "df_s = df_s['Adj Close'].pct_change().dropna()\n",
    "\n",
    "indicadores(df_s)"
   ]
  },
  {
   "cell_type": "code",
   "execution_count": null,
   "metadata": {
    "jupyter": {
     "source_hidden": true
    }
   },
   "outputs": [],
   "source": [
    "def plot_ef(n_points, er, cov, style='.-', show_cml=False, riskfree_rate=0, show_ew=False, show_gmv=False, return_values=False):\n",
    "    \"\"\"\n",
    "    Plots the multi-asset efficient frontier\n",
    "    \"\"\"\n",
    "    weights = optimal_weights(n_points, er, cov)\n",
    "    rets = [portfolio_return(w,er) for w in weights]\n",
    "    vols = [portfolio_vol(w,cov) for w in weights]\n",
    "    ef = pd.DataFrame({\n",
    "        \"Returns\": rets,\n",
    "        \"Volatility\": vols\n",
    "    })\n",
    "    ax = ef.plot.line(x=\"Volatility\", y=\"Returns\", style=style)\n",
    "    # Dict com os valores do da fronteira\n",
    "    values = {\n",
    "        \"Returns\": rets,\n",
    "        \"Volatility\": vols,\n",
    "        \"Weigths\": weights\n",
    "    }\n",
    "    \n",
    "    # EW\n",
    "    if show_ew:\n",
    "        n = er.shape[0]\n",
    "        w_ew = np.repeat(1/n, n)\n",
    "        r_ew = portfolio_return(w_ew, er)\n",
    "        vol_ew = portfolio_vol(w_ew, cov)\n",
    "        values['vol_ew'],values['r_ew'], values['w_ew'] = vol_ew, r_ew, w_ew\n",
    "        # display EW\n",
    "        ax.plot([vol_ew], [r_ew], color='goldenrod', marker='o', markersize=8)\n",
    "        \n",
    "    # GMV\n",
    "    if show_gmv:\n",
    "        w_gmv = gmv(cov)\n",
    "        r_gmv = portfolio_return(w_gmv, er)\n",
    "        vol_gmv = portfolio_vol(w_gmv, cov)\n",
    "        values['vol_gmv'],values['r_gmv'],values['w_gmv'] = vol_gmv, r_gmv, w_gmv\n",
    "        # display EW\n",
    "        ax.plot([vol_gmv], [r_gmv], color='midnightblue', marker='o', markersize=8)\n",
    "    \n",
    "    # CML\n",
    "    if show_cml:\n",
    "        ax.set_xlim(left=0)\n",
    "        w_msr = msr(riskfree_rate, er, cov)\n",
    "        r_msr = portfolio_return(w_msr, er)\n",
    "        vol_msr = portfolio_vol(w_msr, cov)\n",
    "        # Add CML\n",
    "        cml_x = [0, vol_msr]\n",
    "        cml_y = [riskfree_rate, r_msr]\n",
    "        values['vol_msr'],values['r_msr'],values['w_msr'] = vol_msr, r_msr, w_msr\n",
    "        ax.plot(cml_x, cml_y, color='green', marker=\"o\", linestyle=\"dashed\", markersize=8, linewidth=2)\n",
    "        \n",
    "    if return_values:\n",
    "        return ax, values\n",
    "    \n",
    "    return ax"
   ]
  },
  {
   "cell_type": "code",
   "execution_count": 6,
   "metadata": {
    "jupyter": {
     "source_hidden": true
    }
   },
   "outputs": [
    {
     "data": {
      "text/plain": [
       "<matplotlib.axes._subplots.AxesSubplot at 0x7f795fef9690>"
      ]
     },
     "execution_count": 6,
     "metadata": {},
     "output_type": "execute_result"
    },
    {
     "data": {
      "image/png": "[encoded data removed]",
      "text/plain": [
       "<Figure size 432x288 with 1 Axes>"
      ]
     },
     "metadata": {
      "needs_background": "light"
     },
     "output_type": "display_data"
    }
   ],
   "source": [
    "plot_ef(20, show_cml=True, riskfree_rate=0.1, show_ew=True, show_gmv=True)"
   ]
  },
  {
   "cell_type": "markdown",
   "metadata": {},
   "source": [
    "# <font color=blue|blue|red>**Indicações de livros e outras referências**</font>"
   ]
  },
  {
   "cell_type": "markdown",
   "metadata": {},
   "source": [
    "### The Man Who Solved the Market: How Jim Simons Launched the Quant Revolution\n",
    "<img src='https://images-na.ssl-images-amazon.com/images/I/81G9JO7+ViL.jpg' alt='' height=\"100%\" width=\"200\"></img>\n",
    "\n",
    "### Flash Boys: A Wall Street Revolt\n",
    "<img src='https://images-na.ssl-images-amazon.com/images/I/71y4yqkQjWL.jpg' alt='' height=\"100%\" width=\"200\"></img>\n",
    "\n",
    "### Quantitative Trading: How to Build Your Own Algorithmic Trading Business\n",
    "<img src='https://media.wiley.com/product_data/coverImage300/89/04702848/0470284889.jpg' alt='' height=\"100%\" width=\"200\"></img>\n",
    "\n",
    "### Trading systems and methods\n",
    "<img src='https://images-na.ssl-images-amazon.com/images/I/514h7Ir4iOL._SX350_BO1,204,203,200_.jpg' alt='' height=\"100%\" width=\"200\"></img>\n",
    "\n",
    "### Coursera: Introduction to Portfolio Construction and Analysis with Python\n",
    "<img src='https://d3njjcbhbojbot.cloudfront.net/api/utilities/v1/imageproxy/https://coursera-course-photos.s3.amazonaws.com/33/db8df5a8a346398f56f4692351ba64/PYTHON_INTRODUCTION.jpg?auto=format&dpr=1&w=100&h=100&fit=clamp' alt='' height=\"100%\" width=\"175\"></img>\n"
   ]
  }
 ],
 "metadata": {
  "kernelspec": {
   "display_name": "Python 3",
   "language": "python",
   "name": "python3"
  },
  "language_info": {
   "codemirror_mode": {
    "name": "ipython",
    "version": 3
   },
   "file_extension": ".py",
   "mimetype": "text/x-python",
   "name": "python",
   "nbconvert_exporter": "python",
   "pygments_lexer": "ipython3",
   "version": "3.8.2"
  }
 },
 "nbformat": 4,
 "nbformat_minor": 4
}
