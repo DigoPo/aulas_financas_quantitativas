{
 "cells": [
  {
   "cell_type": "markdown",
   "metadata": {},
   "source": [
    "<div align='center'><a href='https://www.facebook.com/fea.dev/'/ style='display:inline-block'><img src=\"data:image/png;base64,iVBORw0KGgoAAAANSUhEUgAAASwAAACoCAMAAABt9SM9AAAA51BMVEX////35gcAAAAICCjFuCn8/P0AAB4AACby8vPZ2dwAABBqanPk5Oapqa8PDyoAABOcnKEAABkAACN4eIDAsgAAACAAAAsvL0AAABavr7QAABEAABuOjpWHh459fYbq6uzKys5JSVZUVGCXl53BwcViYmzy79fs6MQqKjy2trr46UL674P+/e/57GL9+Mr9+tb+/Or89bH+++D57nTl4K/QxWIfHzTNwlU6Okn786L46krLv0jIvDvo5Ln35yT89bT57Gn898D78ZD6737h26Hb04rQxmDXznwiIjUXFy768ZgrKz7i3KNihZpNAAAIBUlEQVR4nO2abUObOhSAQ7AF2mIpbekLpdCWqnXV1W7W6pzTzW26u///e24gvKawIXOC957ni0IJhMeT5ORUhAAAAAAAAAAAAAAAAAAAAAAAAAAAAAAAAAAAAAAAAAAAAAAAAAAgYHlWdA9eDet3N8ui+/BK+HTMHRfdh9fB+g3HcVdF9+JVQIKKcFJ0N14Bq8+cy23RHSk/d1dUFfel6J6UHT+oCJ+L7kvJuTsJVHE/iu5MqVn+4CJcFt2dMnN6ElXFQd6eyvLyJqaKuyu6R6Xl9JZjOC26S2WFDSrC26L7VE7evtsxxXHrontVRpZnxwmqwFUCiUHFcTerojtWPpKDiriC8hXD+kuyKQ7KVyyfUoIKXO3wOdXUf7fUV5Hk+TxPw1+4un3mPpYDe7xt4WF/mqPpXbqrd8/ez99izRTCwEHxmSmoMQpOy8F5g2nbmGA7yzMWPazzfDePrOR8weFNjrv9KXYP435T03DAsInbyJyQ0/1a5LTWrAlM2/FQzzi0xHmXr9ZzdC/VVUGlPnNM/uzVettjvBGGMjktyk0nGsb+6YnKvm0F8zyuZHvIqJ9L1ts0V78qXy0P3r9/+qMyIjkvbQaHRgtLzs8KkVUbBKdt3Ffi7QYaz2sDlImcsn6kuEorXy0P779fd74dPP1JWXFlNYJDC2ui87PSFfiaHJwWMbbi7Xpq9okop6yUFOtTwqUH779e7HUIf1PVjiwRP7o/K/sxWWgSiT7ajNjksZjpGflkrZJdMeWr1eH9uaNpj9A5/6uqdmShLZ21WVkGjjdrN+c9gR/KKAv5ZJ0lugrLV2R2+n7R8Ty9hKpdWQp9f1aW1Y61EpvYNnRe3WZ6Rj5ZJ+muVh/vz69DTa6qvzsAKawsD1YWg6xhMr0ltkwgn6wkV2u0+vn9w17c00upyiur1x8jtBH4/izLM2Z5ZJ0muFqhQ1aTq+riRVTllGVhJ8EwWrza+/XdRcmyLFNhZTVs27Z+szi82VF1s0Tvi1TFyKpYfpoZk2UexZdCVO/3/KZS+q2t9gPN/928NzhdUY7o6Tlpa+KHnsNRl26nWpsj72Dnqwni6ueuqxdUxciyglwgJmvAhJ6I6UdHKt9it4wBZO+oa3g7r08fh1FZ0qOmHY0G8nZYxeQu1rilqqo+H9C/hzTbdrWpbKI16+oKoa87rl5UFSNrjBMjq83IUmpUKpm4hU3KfRe4q2KFuo/OWRJWNbqy1ls8XiBEFworaDhvupde7rr6zrrqfDj8gzfPQWy7s9mPyiJZlGgSGl0tPr/w3hZair9mFBsL6sZvpTQDWSIW/Ly/ogmC+8chm4FqsCcXNTqyr+KuThA6Z1fAl1ZFX7g1UoyxYRj1ZkwW75cdhLgsMr17xRkyDvU2SkCMLRsRWdNueL5epcE7qEX25DKmuVvc1S1C3zpFq6KyeL8SI8Rkqb1J74iwYSJrrj96v5HxJehJd63r0dkslEWe1p34p0lr98ApYAR78q07NJm63xeELjqFq6KyhrLtVvpmWkxWUHV4jG0MTRxkV6YTQAklwHhgRWS19UhqJtc81eSs6ilsYCo/Vvf7jNB1TNV1IaqYOethP8MEP2tW62OKofKR6SZkofHCY3gYyiJ5rBbIdYafG7ORPowwDcioqx9oWQpVzGpoJK+Gi5isR6EVFlb5xBIgCZVwtEVkOZHI1/zGNZIzUEdb1Q84ry/Rut8lWnVKoSpbnmW2I3OWjfvGIMApAS52bjrp8t1IwAWynIepvSgbV5bsR6KF6VIZ+Q7sDB10Iqo+PuO7P5n4dieYm9K3O9NqtFrjaNktAZJkIFGWnZLzi02B5iBzbwYM6353ZDtYElVP3xuaOJYsyLWkEuA2RZaVsiA4q6dzRQXvu4dh3e8UfQzqVXsFq3q6rFE/FhrOLLR7HZGlJs1ZUuLV9AMnmZPxyD0M6n5vg61zZ+/vfQ+RmcyyRnSZ6nbjhQaSZUa9BCeFajjvhxO8xqcUa4jemoIevJ74db81uu+UJaocssoSsbtcLTATGc4Uz9Tn3U1jdB8Upg4k5RfUpC/QyHBWt5I3vfuJw8rbOpciqhyyypph92jSZWYokchqMl+TuTeNTFqhLMdijb2a3kbgq1NvPqN1v5sV3TqXRlVmWRXVzRBMvLP2OePQL8Ur0zmd0EgERWbyUJabaCXWwMhGke9q9He37nezdLfOJVKVWsGr1OJTsay5727oGruYudtgeoMZ7lbpkLRcKZZ3CYknP84U8oGAE2LLcjf09Hen7nfsbgc7ez/zv9rzkyZr6GwZUcXnQXAuamBhJ09o4ODb1g2JJ40abmuOrbrdMCV566ai3uVzN4lvtgeWJEnWYBTch4SyF+FrWr760CmZqobifLMsbAwrNuuaA5JskqlYb/moxKg0UgXiZRGdzkWbDEOe708WROI/alg+qGOBrHzutmYjE0H6RKGZvoGdW1e9TU84qGd9f1W9dMpXy7JFFRk3AdGKp4WTmAe/hVeKkc8lkibp/SDy5Bpu6dUW7isVEk462U96yaw0xVpL18mleG6FtzIx9jxfcbdo2emUSxUZbGLIzml2ha8kXRq5Abl+UB+HYVexjXbboFOcUjfs8H7mgnzSntnxEb3wo5t7R7aD98/wev8Dzr6gw69Fd+K1cIcQ/H87AAAAAAAAAAAAAAAAAAAAAAAAAAAAAAAAAAAAAAAAAAAAAAAAAAAAAAAAAAAAAAAAAAAAAAAAAAAAALwu/gXcFKZ821M5DQAAAABJRU5ErkJggg==\" height=\"100%\" width=\"350\" ><a/><div/>"
   ]
  },
  {
   "cell_type": "markdown",
   "metadata": {},
   "source": [
    "# <font color=blue|blue|red>**Jupyter Notebook**</font> \n",
    "### 1) O que é o Jupyter Notebook?\n",
    "O Jupyter Notebook é um documento que permite você executar códigos em Python e escrever textos como um word, tudo em um mesmo lugar.\n",
    "\n",
    "### 2) Como eu faço para rodar o código?\n",
    "Para rodar uma célula basta clicar na célula e precionar **Shift + Enter**. Você também pode rodar uma célula ou mais de uma pelo menu de opções na aba \"Cell\". A células são os retângulos, que podem conter um código em Python ou um texto escrito.\n",
    "\n",
    "Caso você clique nos textos e a formatação dele fique estranha basta rodar essa célula para corrigir.\n",
    "\n",
    "\n",
    "### 3) Porquê eu posso obter diferentes resultados toda vez que eu rodo a mesma célula?\n",
    "Quando você roda uma célula isso atualiza alguma variável (ex, x = x+1), assim você terá resultados diferentes para x enquanto você rodar várias vezes essa célula.\n",
    "\n",
    "### 4) Estou travado em algum exercício, o que eu faço?\n",
    "Nós recomendamos que você busca alguem do FEA.dev ou busque informações no Google ou no Stack Overflow. \n",
    "\n",
    "### 5) Como eu salvo o meu progresso?\n",
    "Clique em \"File\" na barra de opções e por fim clique na opção \"Save and Checkpoit\"\n",
    "\n",
    "### 6) O que devo fazer se o meu Jupyter travar?\n",
    "Caso isso acontece você pode tentar reiniciar o Kernel clicando em \"Kernel\" na barra de opções, e por fim selecionando a opção \"Restart\"\n",
    "\n",
    "### 7) Ainda estou com dúvidas sobre o Jupyter.\n",
    "Caso isso ocorra pode nos chamar ou se preferir pode assistir o seguinte vídeo: https://www.youtube.com/watch?v=dPb4acFiaYs\n"
   ]
  },
  {
   "cell_type": "markdown",
   "metadata": {},
   "source": [
    "# <font color=blue|blue|red>**Aula 02: Calculo Básico de Risco em Python:**</font>\n",
    "## <font color=blue|blue|red>O que esperar do Curso?</font>\n",
    "\n",
    "Bem vindo(a) ao Curso de Finanças Quantitativas em Python do FEA.dev. <ins>**_O obejtivo desse curso é ensinar à você como construir e gerir uma carteira de investimento de forma sistematizada_**</ins>. Para isso vamos abordar temas como criação e gestão de portfólio; extração de dados; visualização de dados; análise de risco, entre outros, tudo isso utilizando Python.\n",
    "\n",
    "### <font color=green|black>**Tópicos da Aula:** </font>\n",
    "- Volatilidade\n",
    "- Risco Anualizado\n",
    "- indíce Sharpe\n",
    "\n",
    "### <font color=green|black>**Tenho Dúvidas!** </font>\n",
    "Caso tenha qualquer dúvida <ins>**_sinta-se livre para chamar qualquer um dos nossos membros pelo nosso Instagram ou email_**</ins>. Além disso, outra ótima ferramenta para se tirar dúvidas e fazer pesquisas é o Stack Overflow. Lembrando que se possível, quando for pesquisar no Google, é recomendado que a faço em inglês, devido a maior disponibilidade de informações.\n",
    "\n",
    "> Instagram: https://www.instagram.com/fea.dev/"
   ]
  },
  {
   "cell_type": "markdown",
   "metadata": {},
   "source": [
    "# <font color=blue|blue|red>**Risco e Volatilidade:**</font>\n",
    "\n",
    "O conceito de **risco** faz referência à possibilidade de que o resultado será diferente do esperado, e <ins>**_umas das possibilidades de calcularmos o risco é por meio da volatilidade de certo ativo._**</ins>\n",
    "\n",
    "| Legenda ||\n",
    "|--|:--|\n",
    "|$\\sigma$| desvio padrão|\n",
    "|$N$|total de dados|\n",
    "|$x_i$| elemento número $i$ do conjunto|\n",
    "|$\\mu$| média do conjunto|\n",
    "\n",
    "&nbsp;\n",
    "\n",
    "$$\n",
    "\\sigma = \\sqrt{\\displaystyle\\sum_{i=1}^N\\frac 1 {N-1}(x_i - \\mu)^2}\n",
    "$$"
   ]
  },
  {
   "cell_type": "code",
   "execution_count": 13,
   "metadata": {},
   "outputs": [],
   "source": [
    "l = ['ABEV3.SA', 'CIEL3.SA']\n",
    "retsl = retorno[l]"
   ]
  },
  {
   "cell_type": "code",
   "execution_count": 14,
   "metadata": {},
   "outputs": [
    {
     "data": {
      "text/html": [
       "<div>\n",
       "<style scoped>\n",
       "    .dataframe tbody tr th:only-of-type {\n",
       "        vertical-align: middle;\n",
       "    }\n",
       "\n",
       "    .dataframe tbody tr th {\n",
       "        vertical-align: top;\n",
       "    }\n",
       "\n",
       "    .dataframe thead th {\n",
       "        text-align: right;\n",
       "    }\n",
       "</style>\n",
       "<table border=\"1\" class=\"dataframe\">\n",
       "  <thead>\n",
       "    <tr style=\"text-align: right;\">\n",
       "      <th></th>\n",
       "      <th>ABEV3.SA</th>\n",
       "      <th>CIEL3.SA</th>\n",
       "    </tr>\n",
       "    <tr>\n",
       "      <th>Date</th>\n",
       "      <th></th>\n",
       "      <th></th>\n",
       "    </tr>\n",
       "  </thead>\n",
       "  <tbody>\n",
       "    <tr>\n",
       "      <th>2017-09-04</th>\n",
       "      <td>-0.001518</td>\n",
       "      <td>-0.007613</td>\n",
       "    </tr>\n",
       "    <tr>\n",
       "      <th>2017-09-05</th>\n",
       "      <td>0.004562</td>\n",
       "      <td>-0.002256</td>\n",
       "    </tr>\n",
       "    <tr>\n",
       "      <th>2017-09-06</th>\n",
       "      <td>0.015641</td>\n",
       "      <td>0.013116</td>\n",
       "    </tr>\n",
       "  </tbody>\n",
       "</table>\n",
       "</div>"
      ],
      "text/plain": [
       "            ABEV3.SA  CIEL3.SA\n",
       "Date                          \n",
       "2017-09-04 -0.001518 -0.007613\n",
       "2017-09-05  0.004562 -0.002256\n",
       "2017-09-06  0.015641  0.013116"
      ]
     },
     "execution_count": 14,
     "metadata": {},
     "output_type": "execute_result"
    }
   ],
   "source": [
    "retsl.head(4).dropna()"
   ]
  },
  {
   "cell_type": "code",
   "execution_count": 15,
   "metadata": {},
   "outputs": [
    {
     "name": "stdout",
     "output_type": "stream",
     "text": [
      "Média ABEV: 0.00013571895432133865 | Tamanho do conjunto ABEV: 577\n",
      "Média CIEL: -0.0010079691391122764 | Tamanho do conjunto CIEL: 577\n"
     ]
    }
   ],
   "source": [
    "# calculando a média e o tamanho do conjunto\n",
    "media = retsl.mean()\n",
    "n = retsl.count()\n",
    "print(f\"Média ABEV: {media[0]} | Tamanho do conjunto ABEV: {n[0]}\")\n",
    "print(f\"Média CIEL: {media[1]} | Tamanho do conjunto CIEL: {n[1]}\")"
   ]
  },
  {
   "cell_type": "code",
   "execution_count": 16,
   "metadata": {},
   "outputs": [
    {
     "data": {
      "text/plain": [
       "ABEV3.SA    0.014684\n",
       "CIEL3.SA    0.027205\n",
       "dtype: float64"
      ]
     },
     "execution_count": 16,
     "metadata": {},
     "output_type": "execute_result"
    }
   ],
   "source": [
    "desvioPadrao = (((retsl - media)**2).sum()/(n-1))**0.5\n",
    "desvioPadrao"
   ]
  },
  {
   "cell_type": "code",
   "execution_count": 17,
   "metadata": {},
   "outputs": [
    {
     "data": {
      "text/plain": [
       "ABEV3.SA    0.014684\n",
       "CIEL3.SA    0.027205\n",
       "dtype: float64"
      ]
     },
     "execution_count": 17,
     "metadata": {},
     "output_type": "execute_result"
    }
   ],
   "source": [
    "# pela função do pandas\n",
    "retsl.std()"
   ]
  },
  {
   "cell_type": "markdown",
   "metadata": {},
   "source": [
    "# <font color=blue|blue|red>**Anualizando desvio padrão:**</font>\n",
    "A fórmula pode ser modificada para anualizar a partir de outros dados (ex. mensal)\n",
    "\n",
    "| Legenda ||\n",
    "|--|:--|\n",
    "|$\\sigma_a$| desvio padrão do ano|\n",
    "|$\\sigma_d$| desvio padrão do dia|\n",
    "|$d$| número de dias no ano|\n",
    "\n",
    "&nbsp;\n",
    "\n",
    "$$\n",
    "\\sigma_a = \\sigma_d * \\sqrt{d}\n",
    "$$"
   ]
  },
  {
   "cell_type": "code",
   "execution_count": 18,
   "metadata": {},
   "outputs": [
    {
     "data": {
      "text/html": [
       "<div>\n",
       "<style scoped>\n",
       "    .dataframe tbody tr th:only-of-type {\n",
       "        vertical-align: middle;\n",
       "    }\n",
       "\n",
       "    .dataframe tbody tr th {\n",
       "        vertical-align: top;\n",
       "    }\n",
       "\n",
       "    .dataframe thead th {\n",
       "        text-align: right;\n",
       "    }\n",
       "</style>\n",
       "<table border=\"1\" class=\"dataframe\">\n",
       "  <thead>\n",
       "    <tr style=\"text-align: right;\">\n",
       "      <th></th>\n",
       "      <th>ABEV3.SA</th>\n",
       "      <th>CIEL3.SA</th>\n",
       "    </tr>\n",
       "    <tr>\n",
       "      <th>Date</th>\n",
       "      <th></th>\n",
       "      <th></th>\n",
       "    </tr>\n",
       "  </thead>\n",
       "  <tbody>\n",
       "    <tr>\n",
       "      <th>2018-10-01</th>\n",
       "      <td>0.004907</td>\n",
       "      <td>-0.008163</td>\n",
       "    </tr>\n",
       "    <tr>\n",
       "      <th>2018-10-02</th>\n",
       "      <td>-0.009767</td>\n",
       "      <td>0.053498</td>\n",
       "    </tr>\n",
       "    <tr>\n",
       "      <th>2018-10-03</th>\n",
       "      <td>-0.006575</td>\n",
       "      <td>-0.040625</td>\n",
       "    </tr>\n",
       "    <tr>\n",
       "      <th>2018-10-04</th>\n",
       "      <td>-0.014341</td>\n",
       "      <td>0.001629</td>\n",
       "    </tr>\n",
       "    <tr>\n",
       "      <th>2018-10-05</th>\n",
       "      <td>-0.012311</td>\n",
       "      <td>0.000000</td>\n",
       "    </tr>\n",
       "  </tbody>\n",
       "</table>\n",
       "</div>"
      ],
      "text/plain": [
       "            ABEV3.SA  CIEL3.SA\n",
       "Date                          \n",
       "2018-10-01  0.004907 -0.008163\n",
       "2018-10-02 -0.009767  0.053498\n",
       "2018-10-03 -0.006575 -0.040625\n",
       "2018-10-04 -0.014341  0.001629\n",
       "2018-10-05 -0.012311  0.000000"
      ]
     },
     "execution_count": 18,
     "metadata": {},
     "output_type": "execute_result"
    }
   ],
   "source": [
    "outubro18 = retsl['2018-10'][l]\n",
    "outubro18.head()"
   ]
  },
  {
   "cell_type": "code",
   "execution_count": 19,
   "metadata": {},
   "outputs": [
    {
     "data": {
      "text/plain": [
       "ABEV3.SA    0.365997\n",
       "CIEL3.SA    0.391649\n",
       "dtype: float64"
      ]
     },
     "execution_count": 19,
     "metadata": {},
     "output_type": "execute_result"
    }
   ],
   "source": [
    "desvioAnualizado = outubro18.std() * 252**0.5\n",
    "desvioAnualizado"
   ]
  },
  {
   "cell_type": "code",
   "execution_count": 20,
   "metadata": {},
   "outputs": [
    {
     "data": {
      "text/plain": [
       "ABEV3.SA    0.023056\n",
       "CIEL3.SA    0.024672\n",
       "dtype: float64"
      ]
     },
     "execution_count": 20,
     "metadata": {},
     "output_type": "execute_result"
    }
   ],
   "source": [
    "outubro18.std()"
   ]
  },
  {
   "cell_type": "code",
   "execution_count": 21,
   "metadata": {},
   "outputs": [
    {
     "data": {
      "text/plain": [
       "ABEV3.SA    0.023056\n",
       "CIEL3.SA    0.024672\n",
       "dtype: float64"
      ]
     },
     "execution_count": 21,
     "metadata": {},
     "output_type": "execute_result"
    }
   ],
   "source": [
    "desvioAnualizado * 1/252**0.5"
   ]
  },
  {
   "cell_type": "markdown",
   "metadata": {},
   "source": [
    "# <font color=blue|blue|red>**Juntando retorno e risco: Índice Sharpe**</font>\n",
    "O índice Sharpe geralmente é calculado em períodos de um ano, então usaremos retorno e desvio padrão anualizados.\n",
    "\n",
    "| Legenda ||\n",
    "|--|:--|\n",
    "|$r_p$| retorno do investimento p|\n",
    "|$r_f$| retorno do investimento livre de risco |\n",
    "|$r_p - r_f$| retorno excedente \n",
    "|$\\sigma_p$| desvio padrão do investimento p|\n",
    "\n",
    "&nbsp;\n",
    "\n",
    "$$\n",
    "Sharpe = \\frac {r_p - r_f} {\\sigma_p}\n",
    "$$"
   ]
  },
  {
   "cell_type": "code",
   "execution_count": 22,
   "metadata": {},
   "outputs": [],
   "source": [
    "sigma = outubro18.std() * 252**0.5\n",
    "# sigma -> desvio padrão anualizado\n",
    "retornoAnualizado = (outubro18 + 1).prod() ** 12 - 1"
   ]
  },
  {
   "cell_type": "code",
   "execution_count": 23,
   "metadata": {},
   "outputs": [
    {
     "data": {
      "text/plain": [
       "<AxesSubplot:xlabel='Date'>"
      ]
     },
     "execution_count": 23,
     "metadata": {},
     "output_type": "execute_result"
    },
    {
     "data": {
      "image/png": "[encoded data removed]",
      "text/plain": [
       "<Figure size 432x288 with 1 Axes>"
      ]
     },
     "metadata": {
      "needs_background": "light"
     },
     "output_type": "display_data"
    }
   ],
   "source": [
    "(outubro18 + 1).cumprod().plot()"
   ]
  },
  {
   "cell_type": "code",
   "execution_count": 24,
   "metadata": {},
   "outputs": [
    {
     "data": {
      "text/plain": [
       "ABEV3.SA   -2.130703\n",
       "CIEL3.SA    3.626946\n",
       "dtype: float64"
      ]
     },
     "execution_count": 24,
     "metadata": {},
     "output_type": "execute_result"
    }
   ],
   "source": [
    "sharpe = (retornoAnualizado - 0.03)/sigma\n",
    "sharpe"
   ]
  }
 ],
 "metadata": {
  "kernelspec": {
   "display_name": "Python 3",
   "language": "python",
   "name": "python3"
  },
  "language_info": {
   "codemirror_mode": {
    "name": "ipython",
    "version": 3
   },
   "file_extension": ".py",
   "mimetype": "text/x-python",
   "name": "python",
   "nbconvert_exporter": "python",
   "pygments_lexer": "ipython3",
   "version": "3.8.2"
  }
 },
 "nbformat": 4,
 "nbformat_minor": 4
}
