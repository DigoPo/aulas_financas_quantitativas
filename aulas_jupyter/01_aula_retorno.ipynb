{
 "cells": [
  {
   "cell_type": "markdown",
   "metadata": {},
   "source": [
    "<div align='center'><a href='https://www.facebook.com/fea.dev/'/ style='display:inline-block'><img src=\"data:image/png;base64,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\" height=\"100%\" width=\"350\" ><a/><div/>"
   ]
  },
  {
   "cell_type": "markdown",
   "metadata": {},
   "source": [
    "# <font color=blue|blue|red>**Jupyter Notebook**</font> \n",
    "### 1) O que é o Jupyter Notebook?\n",
    "O Jupyter Notebook é um documento que permite você executar códigos em Python e escrever textos como um word, tudo em um mesmo lugar.\n",
    "\n",
    "### 2) Como eu faço para rodar o código?\n",
    "Para rodar uma célula basta clicar na célula e precionar **Shift + Enter**. Você também pode rodar uma célula ou mais de uma pelo menu de opções na aba \"Cell\". A células são os retângulos, que podem conter um código em Python ou um texto escrito.\n",
    "\n",
    "Caso você clique nos textos e a formatação dele fique estranha basta rodar essa célula para corrigir.\n",
    "\n",
    "\n",
    "### 3) Porquê eu posso obter diferentes resultados toda vez que eu rodo a mesma célula?\n",
    "Quando você roda uma célula isso atualiza alguma variável (ex, x = x+1), assim você terá resultados diferentes para x enquanto você rodar várias vezes essa célula.\n",
    "\n",
    "### 4) Estou travado em algum exercício, o que eu faço?\n",
    "Nós recomendamos que você busca alguem do FEA.dev ou busque informações no Google ou no Stack Overflow. \n",
    "\n",
    "### 5) Como eu salvo o meu progresso?\n",
    "Clique em \"File\" na barra de opções e por fim clique na opção \"Save and Checkpoit\"\n",
    "\n",
    "### 6) O que devo fazer se o meu Jupyter travar?\n",
    "Caso isso acontece você pode tentar reiniciar o Kernel clicando em \"Kernel\" na barra de opções, e por fim selecionando a opção \"Restart\"\n",
    "\n",
    "### 7) Ainda estou com dúvidas sobre o Jupyter.\n",
    "Caso isso ocorra pode nos chamar ou se preferir pode assistir o seguinte vídeo: https://www.youtube.com/watch?v=dPb4acFiaYs\n"
   ]
  },
  {
   "cell_type": "markdown",
   "metadata": {},
   "source": [
    "# <font color=blue|blue|red>**Aula 01: Calculo do Retorno de Um Único Ativo em Python:**</font>\n",
    "## <font color=blue|blue|red>O que esperar do Curso?</font>\n",
    "\n",
    "Bem vindo(a) ao Curso de Finanças Quantitativas em Python do FEA.dev. <ins>**_O obejtivo desse curso é ensinar à você como construir e gerir uma carteira de investimento de forma sistematizada_**</ins>. Para isso vamos abordar temas como criação e gestão de portfólio; extração de dados; visualização de dados; análise de risco, entre outros, tudo isso utilizando Python.\n",
    "\n",
    "### <font color=green|black>**Tópicos da Aula:** </font>\n",
    "- Fundamentos\n",
    "- Retornos Múltiplos\n",
    "- Retorno Logarítimo\n",
    "- Retorno Anualizado\n",
    "\n",
    "### <font color=green|black>**Tenho Dúvidas!** </font>\n",
    "Caso tenha qualquer dúvida <ins>**_sinta-se livre para chamar qualquer um dos nossos membros pelo nosso Instagram ou email_**</ins>. Além disso, outra ótima ferramenta para se tirar dúvidas e fazer pesquisas é o Stack Overflow. Lembrando que se possível, quando for pesquisar no Google, é recomendado que a faço em inglês, devido a maior disponibilidade de informações.\n",
    "\n",
    "> Instagram: https://www.instagram.com/fea.dev/"
   ]
  },
  {
   "cell_type": "markdown",
   "metadata": {},
   "source": [
    "# <font color=blue|blue|red>**Fundamentos de Retorno:**</font>"
   ]
  },
  {
   "cell_type": "markdown",
   "metadata": {},
   "source": [
    "Retorno nada mais é que a diferença, a variação percentual do valor de um ativo entre um determinado período de tempo.\n",
    "\n",
    "Para calcular seu valor, basta realizar a seguinte operação:"
   ]
  },
  {
   "cell_type": "markdown",
   "metadata": {},
   "source": [
    "$$ R_{t,t+1} = \\frac{P_{t+1}-P_{t}}{P_{t}} $$\n",
    "\n",
    "            ou\n",
    "\n",
    "$$ R_{t,t+1} = \\frac{P_{t+1}}{P_{t}} - 1 $$"
   ]
  },
  {
   "cell_type": "code",
   "execution_count": 6,
   "metadata": {},
   "outputs": [
    {
     "data": {
      "text/plain": [
       "0.6000000000000001"
      ]
     },
     "execution_count": 6,
     "metadata": {},
     "output_type": "execute_result"
    }
   ],
   "source": [
    "#operações\n",
    "(16 - 10)/10\n",
    "(16/10) - 1"
   ]
  },
  {
   "cell_type": "code",
   "execution_count": 7,
   "metadata": {},
   "outputs": [],
   "source": [
    "import pandas as pd\n",
    "\n",
    "precos = pd.DataFrame({\"AÇÃO A\": [19.20, 19.66, 18.81, 18.70, 19.22],       \n",
    "                       \"AÇÃO B\": [30.66, 31.05, 30.78, 31.59, 32.16]})"
   ]
  },
  {
   "cell_type": "code",
   "execution_count": 8,
   "metadata": {},
   "outputs": [
    {
     "data": {
      "text/html": [
       "<div>\n",
       "<style scoped>\n",
       "    .dataframe tbody tr th:only-of-type {\n",
       "        vertical-align: middle;\n",
       "    }\n",
       "\n",
       "    .dataframe tbody tr th {\n",
       "        vertical-align: top;\n",
       "    }\n",
       "\n",
       "    .dataframe thead th {\n",
       "        text-align: right;\n",
       "    }\n",
       "</style>\n",
       "<table border=\"1\" class=\"dataframe\">\n",
       "  <thead>\n",
       "    <tr style=\"text-align: right;\">\n",
       "      <th></th>\n",
       "      <th>AÇÃO A</th>\n",
       "      <th>AÇÃO B</th>\n",
       "    </tr>\n",
       "  </thead>\n",
       "  <tbody>\n",
       "    <tr>\n",
       "      <th>0</th>\n",
       "      <td>19.20</td>\n",
       "      <td>30.66</td>\n",
       "    </tr>\n",
       "    <tr>\n",
       "      <th>1</th>\n",
       "      <td>19.66</td>\n",
       "      <td>31.05</td>\n",
       "    </tr>\n",
       "    <tr>\n",
       "      <th>2</th>\n",
       "      <td>18.81</td>\n",
       "      <td>30.78</td>\n",
       "    </tr>\n",
       "    <tr>\n",
       "      <th>3</th>\n",
       "      <td>18.70</td>\n",
       "      <td>31.59</td>\n",
       "    </tr>\n",
       "    <tr>\n",
       "      <th>4</th>\n",
       "      <td>19.22</td>\n",
       "      <td>32.16</td>\n",
       "    </tr>\n",
       "  </tbody>\n",
       "</table>\n",
       "</div>"
      ],
      "text/plain": [
       "   AÇÃO A  AÇÃO B\n",
       "0   19.20   30.66\n",
       "1   19.66   31.05\n",
       "2   18.81   30.78\n",
       "3   18.70   31.59\n",
       "4   19.22   32.16"
      ]
     },
     "execution_count": 8,
     "metadata": {},
     "output_type": "execute_result"
    }
   ],
   "source": [
    "precos"
   ]
  },
  {
   "cell_type": "code",
   "execution_count": 9,
   "metadata": {},
   "outputs": [
    {
     "data": {
      "text/html": [
       "<div>\n",
       "<style scoped>\n",
       "    .dataframe tbody tr th:only-of-type {\n",
       "        vertical-align: middle;\n",
       "    }\n",
       "\n",
       "    .dataframe tbody tr th {\n",
       "        vertical-align: top;\n",
       "    }\n",
       "\n",
       "    .dataframe thead th {\n",
       "        text-align: right;\n",
       "    }\n",
       "</style>\n",
       "<table border=\"1\" class=\"dataframe\">\n",
       "  <thead>\n",
       "    <tr style=\"text-align: right;\">\n",
       "      <th></th>\n",
       "      <th>AÇÃO A</th>\n",
       "      <th>AÇÃO B</th>\n",
       "    </tr>\n",
       "  </thead>\n",
       "  <tbody>\n",
       "    <tr>\n",
       "      <th>1</th>\n",
       "      <td>0.023958</td>\n",
       "      <td>0.012720</td>\n",
       "    </tr>\n",
       "    <tr>\n",
       "      <th>2</th>\n",
       "      <td>-0.043235</td>\n",
       "      <td>-0.008696</td>\n",
       "    </tr>\n",
       "    <tr>\n",
       "      <th>3</th>\n",
       "      <td>-0.005848</td>\n",
       "      <td>0.026316</td>\n",
       "    </tr>\n",
       "    <tr>\n",
       "      <th>4</th>\n",
       "      <td>0.027807</td>\n",
       "      <td>0.018044</td>\n",
       "    </tr>\n",
       "  </tbody>\n",
       "</table>\n",
       "</div>"
      ],
      "text/plain": [
       "     AÇÃO A    AÇÃO B\n",
       "1  0.023958  0.012720\n",
       "2 -0.043235 -0.008696\n",
       "3 -0.005848  0.026316\n",
       "4  0.027807  0.018044"
      ]
     },
     "execution_count": 9,
     "metadata": {},
     "output_type": "execute_result"
    }
   ],
   "source": [
    "retorno = precos.iloc[1:]/precos.iloc[:-1].values - 1\n",
    "retorno"
   ]
  },
  {
   "cell_type": "code",
   "execution_count": 10,
   "metadata": {},
   "outputs": [
    {
     "data": {
      "text/html": [
       "<div>\n",
       "<style scoped>\n",
       "    .dataframe tbody tr th:only-of-type {\n",
       "        vertical-align: middle;\n",
       "    }\n",
       "\n",
       "    .dataframe tbody tr th {\n",
       "        vertical-align: top;\n",
       "    }\n",
       "\n",
       "    .dataframe thead th {\n",
       "        text-align: right;\n",
       "    }\n",
       "</style>\n",
       "<table border=\"1\" class=\"dataframe\">\n",
       "  <thead>\n",
       "    <tr style=\"text-align: right;\">\n",
       "      <th></th>\n",
       "      <th>AÇÃO A</th>\n",
       "      <th>AÇÃO B</th>\n",
       "    </tr>\n",
       "  </thead>\n",
       "  <tbody>\n",
       "    <tr>\n",
       "      <th>0</th>\n",
       "      <td>NaN</td>\n",
       "      <td>NaN</td>\n",
       "    </tr>\n",
       "    <tr>\n",
       "      <th>1</th>\n",
       "      <td>0.023958</td>\n",
       "      <td>0.012720</td>\n",
       "    </tr>\n",
       "    <tr>\n",
       "      <th>2</th>\n",
       "      <td>-0.043235</td>\n",
       "      <td>-0.008696</td>\n",
       "    </tr>\n",
       "    <tr>\n",
       "      <th>3</th>\n",
       "      <td>-0.005848</td>\n",
       "      <td>0.026316</td>\n",
       "    </tr>\n",
       "    <tr>\n",
       "      <th>4</th>\n",
       "      <td>0.027807</td>\n",
       "      <td>0.018044</td>\n",
       "    </tr>\n",
       "  </tbody>\n",
       "</table>\n",
       "</div>"
      ],
      "text/plain": [
       "     AÇÃO A    AÇÃO B\n",
       "0       NaN       NaN\n",
       "1  0.023958  0.012720\n",
       "2 -0.043235 -0.008696\n",
       "3 -0.005848  0.026316\n",
       "4  0.027807  0.018044"
      ]
     },
     "execution_count": 10,
     "metadata": {},
     "output_type": "execute_result"
    }
   ],
   "source": [
    "ret = precos.pct_change()\n",
    "ret"
   ]
  },
  {
   "cell_type": "code",
   "execution_count": 11,
   "metadata": {},
   "outputs": [
    {
     "data": {
      "text/plain": [
       "<matplotlib.axes._subplots.AxesSubplot at 0x991c268>"
      ]
     },
     "execution_count": 11,
     "metadata": {},
     "output_type": "execute_result"
    },
    {
     "data": {
      "image/png": "[encoded data removed]",
      "text/plain": [
       "<Figure size 432x288 with 1 Axes>"
      ]
     },
     "metadata": {
      "needs_background": "light"
     },
     "output_type": "display_data"
    }
   ],
   "source": [
    "ret.plot()"
   ]
  },
  {
   "cell_type": "code",
   "execution_count": 12,
   "metadata": {},
   "outputs": [
    {
     "data": {
      "text/html": [
       "<div>\n",
       "<style scoped>\n",
       "    .dataframe tbody tr th:only-of-type {\n",
       "        vertical-align: middle;\n",
       "    }\n",
       "\n",
       "    .dataframe tbody tr th {\n",
       "        vertical-align: top;\n",
       "    }\n",
       "\n",
       "    .dataframe thead th {\n",
       "        text-align: right;\n",
       "    }\n",
       "</style>\n",
       "<table border=\"1\" class=\"dataframe\">\n",
       "  <thead>\n",
       "    <tr style=\"text-align: right;\">\n",
       "      <th></th>\n",
       "      <th>ABEV3.SA</th>\n",
       "      <th>BTOW3.SA</th>\n",
       "      <th>B3SA3.SA</th>\n",
       "      <th>BBSE3.SA</th>\n",
       "      <th>BRML3.SA</th>\n",
       "      <th>BBDC3.SA</th>\n",
       "      <th>BBDC4.SA</th>\n",
       "      <th>BRAP4.SA</th>\n",
       "      <th>BBAS3.SA</th>\n",
       "      <th>BRKM5.SA</th>\n",
       "      <th>...</th>\n",
       "      <th>CSNA3.SA</th>\n",
       "      <th>SMLS3.SA</th>\n",
       "      <th>SUZB3.SA</th>\n",
       "      <th>TAEE11.SA</th>\n",
       "      <th>VIVT4.SA</th>\n",
       "      <th>UGPA3.SA</th>\n",
       "      <th>USIM5.SA</th>\n",
       "      <th>VALE3.SA</th>\n",
       "      <th>VVAR3.SA</th>\n",
       "      <th>WEGE3.SA</th>\n",
       "    </tr>\n",
       "    <tr>\n",
       "      <th>Date</th>\n",
       "      <th></th>\n",
       "      <th></th>\n",
       "      <th></th>\n",
       "      <th></th>\n",
       "      <th></th>\n",
       "      <th></th>\n",
       "      <th></th>\n",
       "      <th></th>\n",
       "      <th></th>\n",
       "      <th></th>\n",
       "      <th></th>\n",
       "      <th></th>\n",
       "      <th></th>\n",
       "      <th></th>\n",
       "      <th></th>\n",
       "      <th></th>\n",
       "      <th></th>\n",
       "      <th></th>\n",
       "      <th></th>\n",
       "      <th></th>\n",
       "      <th></th>\n",
       "    </tr>\n",
       "  </thead>\n",
       "  <tbody>\n",
       "    <tr>\n",
       "      <th>2017-09-01</th>\n",
       "      <td>18.368975</td>\n",
       "      <td>18.226400</td>\n",
       "      <td>20.408548</td>\n",
       "      <td>21.102493</td>\n",
       "      <td>12.425079</td>\n",
       "      <td>22.206409</td>\n",
       "      <td>22.014168</td>\n",
       "      <td>23.375080</td>\n",
       "      <td>27.504322</td>\n",
       "      <td>32.325344</td>\n",
       "      <td>...</td>\n",
       "      <td>7.692587</td>\n",
       "      <td>44.770714</td>\n",
       "      <td>19.289434</td>\n",
       "      <td>18.103102</td>\n",
       "      <td>37.789330</td>\n",
       "      <td>34.734325</td>\n",
       "      <td>7.371636</td>\n",
       "      <td>31.717442</td>\n",
       "      <td>7.144640</td>\n",
       "      <td>15.267924</td>\n",
       "    </tr>\n",
       "    <tr>\n",
       "      <th>2017-09-04</th>\n",
       "      <td>18.341087</td>\n",
       "      <td>18.631599</td>\n",
       "      <td>20.426664</td>\n",
       "      <td>21.057255</td>\n",
       "      <td>12.286613</td>\n",
       "      <td>21.953526</td>\n",
       "      <td>22.005997</td>\n",
       "      <td>23.579010</td>\n",
       "      <td>27.461199</td>\n",
       "      <td>32.907715</td>\n",
       "      <td>...</td>\n",
       "      <td>7.850255</td>\n",
       "      <td>47.354233</td>\n",
       "      <td>19.289434</td>\n",
       "      <td>17.792988</td>\n",
       "      <td>37.967285</td>\n",
       "      <td>34.992622</td>\n",
       "      <td>7.953607</td>\n",
       "      <td>32.099792</td>\n",
       "      <td>7.164542</td>\n",
       "      <td>15.517797</td>\n",
       "    </tr>\n",
       "    <tr>\n",
       "      <th>2017-09-05</th>\n",
       "      <td>18.424751</td>\n",
       "      <td>18.671101</td>\n",
       "      <td>20.471956</td>\n",
       "      <td>21.351292</td>\n",
       "      <td>12.480465</td>\n",
       "      <td>21.967077</td>\n",
       "      <td>21.691172</td>\n",
       "      <td>23.400574</td>\n",
       "      <td>27.599192</td>\n",
       "      <td>32.789547</td>\n",
       "      <td>...</td>\n",
       "      <td>8.016223</td>\n",
       "      <td>48.305737</td>\n",
       "      <td>19.289434</td>\n",
       "      <td>17.886023</td>\n",
       "      <td>37.913132</td>\n",
       "      <td>34.283474</td>\n",
       "      <td>7.827513</td>\n",
       "      <td>31.655203</td>\n",
       "      <td>7.025231</td>\n",
       "      <td>15.907118</td>\n",
       "    </tr>\n",
       "    <tr>\n",
       "      <th>2017-09-06</th>\n",
       "      <td>18.712929</td>\n",
       "      <td>18.839199</td>\n",
       "      <td>20.616892</td>\n",
       "      <td>21.652861</td>\n",
       "      <td>12.895865</td>\n",
       "      <td>22.426369</td>\n",
       "      <td>22.018803</td>\n",
       "      <td>23.536524</td>\n",
       "      <td>28.254667</td>\n",
       "      <td>33.962715</td>\n",
       "      <td>...</td>\n",
       "      <td>8.157294</td>\n",
       "      <td>48.450665</td>\n",
       "      <td>19.289434</td>\n",
       "      <td>17.661186</td>\n",
       "      <td>37.727425</td>\n",
       "      <td>34.631004</td>\n",
       "      <td>8.079700</td>\n",
       "      <td>31.833042</td>\n",
       "      <td>7.373507</td>\n",
       "      <td>15.745507</td>\n",
       "    </tr>\n",
       "    <tr>\n",
       "      <th>2017-09-07</th>\n",
       "      <td>18.712929</td>\n",
       "      <td>18.839199</td>\n",
       "      <td>20.616892</td>\n",
       "      <td>21.652861</td>\n",
       "      <td>12.895865</td>\n",
       "      <td>22.426369</td>\n",
       "      <td>22.018803</td>\n",
       "      <td>23.536524</td>\n",
       "      <td>28.254667</td>\n",
       "      <td>33.962715</td>\n",
       "      <td>...</td>\n",
       "      <td>8.157294</td>\n",
       "      <td>48.450665</td>\n",
       "      <td>19.289434</td>\n",
       "      <td>17.661186</td>\n",
       "      <td>37.727425</td>\n",
       "      <td>34.631004</td>\n",
       "      <td>8.079700</td>\n",
       "      <td>31.833042</td>\n",
       "      <td>7.373507</td>\n",
       "      <td>15.745507</td>\n",
       "    </tr>\n",
       "  </tbody>\n",
       "</table>\n",
       "<p>5 rows × 60 columns</p>\n",
       "</div>"
      ],
      "text/plain": [
       "             ABEV3.SA   BTOW3.SA   B3SA3.SA   BBSE3.SA   BRML3.SA   BBDC3.SA  \\\n",
       "Date                                                                           \n",
       "2017-09-01  18.368975  18.226400  20.408548  21.102493  12.425079  22.206409   \n",
       "2017-09-04  18.341087  18.631599  20.426664  21.057255  12.286613  21.953526   \n",
       "2017-09-05  18.424751  18.671101  20.471956  21.351292  12.480465  21.967077   \n",
       "2017-09-06  18.712929  18.839199  20.616892  21.652861  12.895865  22.426369   \n",
       "2017-09-07  18.712929  18.839199  20.616892  21.652861  12.895865  22.426369   \n",
       "\n",
       "             BBDC4.SA   BRAP4.SA   BBAS3.SA   BRKM5.SA  ...  CSNA3.SA  \\\n",
       "Date                                                    ...             \n",
       "2017-09-01  22.014168  23.375080  27.504322  32.325344  ...  7.692587   \n",
       "2017-09-04  22.005997  23.579010  27.461199  32.907715  ...  7.850255   \n",
       "2017-09-05  21.691172  23.400574  27.599192  32.789547  ...  8.016223   \n",
       "2017-09-06  22.018803  23.536524  28.254667  33.962715  ...  8.157294   \n",
       "2017-09-07  22.018803  23.536524  28.254667  33.962715  ...  8.157294   \n",
       "\n",
       "             SMLS3.SA   SUZB3.SA  TAEE11.SA   VIVT4.SA   UGPA3.SA  USIM5.SA  \\\n",
       "Date                                                                          \n",
       "2017-09-01  44.770714  19.289434  18.103102  37.789330  34.734325  7.371636   \n",
       "2017-09-04  47.354233  19.289434  17.792988  37.967285  34.992622  7.953607   \n",
       "2017-09-05  48.305737  19.289434  17.886023  37.913132  34.283474  7.827513   \n",
       "2017-09-06  48.450665  19.289434  17.661186  37.727425  34.631004  8.079700   \n",
       "2017-09-07  48.450665  19.289434  17.661186  37.727425  34.631004  8.079700   \n",
       "\n",
       "             VALE3.SA  VVAR3.SA   WEGE3.SA  \n",
       "Date                                        \n",
       "2017-09-01  31.717442  7.144640  15.267924  \n",
       "2017-09-04  32.099792  7.164542  15.517797  \n",
       "2017-09-05  31.655203  7.025231  15.907118  \n",
       "2017-09-06  31.833042  7.373507  15.745507  \n",
       "2017-09-07  31.833042  7.373507  15.745507  \n",
       "\n",
       "[5 rows x 60 columns]"
      ]
     },
     "execution_count": 12,
     "metadata": {},
     "output_type": "execute_result"
    }
   ],
   "source": [
    "prices = pd.read_csv('dados/adj.csv', index_col = 0)\n",
    "prices.index = pd.to_datetime(prices.index, dayfirst=True)\n",
    "prices.head()"
   ]
  },
  {
   "cell_type": "code",
   "execution_count": 13,
   "metadata": {
    "scrolled": true
   },
   "outputs": [
    {
     "data": {
      "text/html": [
       "<div>\n",
       "<style scoped>\n",
       "    .dataframe tbody tr th:only-of-type {\n",
       "        vertical-align: middle;\n",
       "    }\n",
       "\n",
       "    .dataframe tbody tr th {\n",
       "        vertical-align: top;\n",
       "    }\n",
       "\n",
       "    .dataframe thead th {\n",
       "        text-align: right;\n",
       "    }\n",
       "</style>\n",
       "<table border=\"1\" class=\"dataframe\">\n",
       "  <thead>\n",
       "    <tr style=\"text-align: right;\">\n",
       "      <th></th>\n",
       "      <th>ABEV3.SA</th>\n",
       "      <th>BTOW3.SA</th>\n",
       "      <th>B3SA3.SA</th>\n",
       "      <th>BBSE3.SA</th>\n",
       "      <th>BRML3.SA</th>\n",
       "      <th>BBDC3.SA</th>\n",
       "      <th>BBDC4.SA</th>\n",
       "      <th>BRAP4.SA</th>\n",
       "      <th>BBAS3.SA</th>\n",
       "      <th>BRKM5.SA</th>\n",
       "      <th>...</th>\n",
       "      <th>CSNA3.SA</th>\n",
       "      <th>SMLS3.SA</th>\n",
       "      <th>SUZB3.SA</th>\n",
       "      <th>TAEE11.SA</th>\n",
       "      <th>VIVT4.SA</th>\n",
       "      <th>UGPA3.SA</th>\n",
       "      <th>USIM5.SA</th>\n",
       "      <th>VALE3.SA</th>\n",
       "      <th>VVAR3.SA</th>\n",
       "      <th>WEGE3.SA</th>\n",
       "    </tr>\n",
       "    <tr>\n",
       "      <th>Date</th>\n",
       "      <th></th>\n",
       "      <th></th>\n",
       "      <th></th>\n",
       "      <th></th>\n",
       "      <th></th>\n",
       "      <th></th>\n",
       "      <th></th>\n",
       "      <th></th>\n",
       "      <th></th>\n",
       "      <th></th>\n",
       "      <th></th>\n",
       "      <th></th>\n",
       "      <th></th>\n",
       "      <th></th>\n",
       "      <th></th>\n",
       "      <th></th>\n",
       "      <th></th>\n",
       "      <th></th>\n",
       "      <th></th>\n",
       "      <th></th>\n",
       "      <th></th>\n",
       "    </tr>\n",
       "  </thead>\n",
       "  <tbody>\n",
       "    <tr>\n",
       "      <th>2017-09-01</th>\n",
       "      <td>NaN</td>\n",
       "      <td>NaN</td>\n",
       "      <td>NaN</td>\n",
       "      <td>NaN</td>\n",
       "      <td>NaN</td>\n",
       "      <td>NaN</td>\n",
       "      <td>NaN</td>\n",
       "      <td>NaN</td>\n",
       "      <td>NaN</td>\n",
       "      <td>NaN</td>\n",
       "      <td>...</td>\n",
       "      <td>NaN</td>\n",
       "      <td>NaN</td>\n",
       "      <td>NaN</td>\n",
       "      <td>NaN</td>\n",
       "      <td>NaN</td>\n",
       "      <td>NaN</td>\n",
       "      <td>NaN</td>\n",
       "      <td>NaN</td>\n",
       "      <td>NaN</td>\n",
       "      <td>NaN</td>\n",
       "    </tr>\n",
       "    <tr>\n",
       "      <th>2017-09-04</th>\n",
       "      <td>-0.001518</td>\n",
       "      <td>0.022231</td>\n",
       "      <td>0.000888</td>\n",
       "      <td>-0.002144</td>\n",
       "      <td>-0.011144</td>\n",
       "      <td>-0.011388</td>\n",
       "      <td>-0.000371</td>\n",
       "      <td>0.008724</td>\n",
       "      <td>-0.001568</td>\n",
       "      <td>0.018016</td>\n",
       "      <td>...</td>\n",
       "      <td>0.020496</td>\n",
       "      <td>0.057706</td>\n",
       "      <td>0.0</td>\n",
       "      <td>-0.017130</td>\n",
       "      <td>0.004709</td>\n",
       "      <td>0.007436</td>\n",
       "      <td>0.078947</td>\n",
       "      <td>0.012055</td>\n",
       "      <td>0.002785</td>\n",
       "      <td>0.016366</td>\n",
       "    </tr>\n",
       "    <tr>\n",
       "      <th>2017-09-05</th>\n",
       "      <td>0.004562</td>\n",
       "      <td>0.002120</td>\n",
       "      <td>0.002217</td>\n",
       "      <td>0.013964</td>\n",
       "      <td>0.015778</td>\n",
       "      <td>0.000617</td>\n",
       "      <td>-0.014306</td>\n",
       "      <td>-0.007568</td>\n",
       "      <td>0.005025</td>\n",
       "      <td>-0.003591</td>\n",
       "      <td>...</td>\n",
       "      <td>0.021142</td>\n",
       "      <td>0.020093</td>\n",
       "      <td>0.0</td>\n",
       "      <td>0.005229</td>\n",
       "      <td>-0.001426</td>\n",
       "      <td>-0.020266</td>\n",
       "      <td>-0.015854</td>\n",
       "      <td>-0.013850</td>\n",
       "      <td>-0.019444</td>\n",
       "      <td>0.025089</td>\n",
       "    </tr>\n",
       "    <tr>\n",
       "      <th>2017-09-06</th>\n",
       "      <td>0.015641</td>\n",
       "      <td>0.009003</td>\n",
       "      <td>0.007080</td>\n",
       "      <td>0.014124</td>\n",
       "      <td>0.033284</td>\n",
       "      <td>0.020908</td>\n",
       "      <td>0.015104</td>\n",
       "      <td>0.005810</td>\n",
       "      <td>0.023750</td>\n",
       "      <td>0.035779</td>\n",
       "      <td>...</td>\n",
       "      <td>0.017598</td>\n",
       "      <td>0.003000</td>\n",
       "      <td>0.0</td>\n",
       "      <td>-0.012571</td>\n",
       "      <td>-0.004898</td>\n",
       "      <td>0.010137</td>\n",
       "      <td>0.032218</td>\n",
       "      <td>0.005618</td>\n",
       "      <td>0.049575</td>\n",
       "      <td>-0.010160</td>\n",
       "    </tr>\n",
       "    <tr>\n",
       "      <th>2017-09-07</th>\n",
       "      <td>0.000000</td>\n",
       "      <td>0.000000</td>\n",
       "      <td>0.000000</td>\n",
       "      <td>0.000000</td>\n",
       "      <td>0.000000</td>\n",
       "      <td>0.000000</td>\n",
       "      <td>0.000000</td>\n",
       "      <td>0.000000</td>\n",
       "      <td>0.000000</td>\n",
       "      <td>0.000000</td>\n",
       "      <td>...</td>\n",
       "      <td>0.000000</td>\n",
       "      <td>0.000000</td>\n",
       "      <td>0.0</td>\n",
       "      <td>0.000000</td>\n",
       "      <td>0.000000</td>\n",
       "      <td>0.000000</td>\n",
       "      <td>0.000000</td>\n",
       "      <td>0.000000</td>\n",
       "      <td>0.000000</td>\n",
       "      <td>0.000000</td>\n",
       "    </tr>\n",
       "  </tbody>\n",
       "</table>\n",
       "<p>5 rows × 60 columns</p>\n",
       "</div>"
      ],
      "text/plain": [
       "            ABEV3.SA  BTOW3.SA  B3SA3.SA  BBSE3.SA  BRML3.SA  BBDC3.SA  \\\n",
       "Date                                                                     \n",
       "2017-09-01       NaN       NaN       NaN       NaN       NaN       NaN   \n",
       "2017-09-04 -0.001518  0.022231  0.000888 -0.002144 -0.011144 -0.011388   \n",
       "2017-09-05  0.004562  0.002120  0.002217  0.013964  0.015778  0.000617   \n",
       "2017-09-06  0.015641  0.009003  0.007080  0.014124  0.033284  0.020908   \n",
       "2017-09-07  0.000000  0.000000  0.000000  0.000000  0.000000  0.000000   \n",
       "\n",
       "            BBDC4.SA  BRAP4.SA  BBAS3.SA  BRKM5.SA  ...  CSNA3.SA  SMLS3.SA  \\\n",
       "Date                                                ...                       \n",
       "2017-09-01       NaN       NaN       NaN       NaN  ...       NaN       NaN   \n",
       "2017-09-04 -0.000371  0.008724 -0.001568  0.018016  ...  0.020496  0.057706   \n",
       "2017-09-05 -0.014306 -0.007568  0.005025 -0.003591  ...  0.021142  0.020093   \n",
       "2017-09-06  0.015104  0.005810  0.023750  0.035779  ...  0.017598  0.003000   \n",
       "2017-09-07  0.000000  0.000000  0.000000  0.000000  ...  0.000000  0.000000   \n",
       "\n",
       "            SUZB3.SA  TAEE11.SA  VIVT4.SA  UGPA3.SA  USIM5.SA  VALE3.SA  \\\n",
       "Date                                                                      \n",
       "2017-09-01       NaN        NaN       NaN       NaN       NaN       NaN   \n",
       "2017-09-04       0.0  -0.017130  0.004709  0.007436  0.078947  0.012055   \n",
       "2017-09-05       0.0   0.005229 -0.001426 -0.020266 -0.015854 -0.013850   \n",
       "2017-09-06       0.0  -0.012571 -0.004898  0.010137  0.032218  0.005618   \n",
       "2017-09-07       0.0   0.000000  0.000000  0.000000  0.000000  0.000000   \n",
       "\n",
       "            VVAR3.SA  WEGE3.SA  \n",
       "Date                            \n",
       "2017-09-01       NaN       NaN  \n",
       "2017-09-04  0.002785  0.016366  \n",
       "2017-09-05 -0.019444  0.025089  \n",
       "2017-09-06  0.049575 -0.010160  \n",
       "2017-09-07  0.000000  0.000000  \n",
       "\n",
       "[5 rows x 60 columns]"
      ]
     },
     "execution_count": 13,
     "metadata": {},
     "output_type": "execute_result"
    }
   ],
   "source": [
    "retorno = prices.pct_change()\n",
    "retorno.head()"
   ]
  },
  {
   "cell_type": "markdown",
   "metadata": {},
   "source": [
    "# <font color=blue|blue|red>**Retorno de múltiplos períodos:**</font>"
   ]
  },
  {
   "cell_type": "markdown",
   "metadata": {},
   "source": [
    "Através dos retornos mensais individuais de uma série de, por exemplo, 2 meses, conseguimos calcular o retorno composto desse período."
   ]
  },
  {
   "cell_type": "markdown",
   "metadata": {},
   "source": [
    "$$ R_{t,t+2} = {(1 + R_{t,t+1})} x {(1 + R_{t+1,t+2})} - 1 $$\n",
    "\n",
    "Genericamente, temos:\n",
    "\n",
    "$$ R_{t,t+n} =  \\prod{(1 + R_{t,t+n})}  - 1 $$"
   ]
  },
  {
   "cell_type": "code",
   "execution_count": 14,
   "metadata": {},
   "outputs": [
    {
     "data": {
      "text/plain": [
       "6.699999999999995"
      ]
     },
     "execution_count": 14,
     "metadata": {},
     "output_type": "execute_result"
    }
   ],
   "source": [
    "#exemplo numerico\n",
    "((1.1 * 0.97) - 1)*100"
   ]
  },
  {
   "cell_type": "code",
   "execution_count": 15,
   "metadata": {},
   "outputs": [
    {
     "data": {
      "text/plain": [
       "AÇÃO A    0.001042\n",
       "AÇÃO B    0.048924\n",
       "dtype: float64"
      ]
     },
     "execution_count": 15,
     "metadata": {},
     "output_type": "execute_result"
    }
   ],
   "source": [
    "(ret+1).prod()-1"
   ]
  },
  {
   "cell_type": "markdown",
   "metadata": {},
   "source": [
    "# <font color=blue|blue|red>**Retorno Logarítmico: Log-retorno**</font>"
   ]
  },
  {
   "cell_type": "markdown",
   "metadata": {},
   "source": [
    "Outra forma de calcular o retorno de um ativo é através do logaritmo natural do retorno linear somado 1, como a fórmula a seguir:"
   ]
  },
  {
   "cell_type": "markdown",
   "metadata": {},
   "source": [
    "$$ r_{t} = ln(1 + R_{t}) = ln (\\frac{P_{t+1}}{P_{t}}) $$"
   ]
  },
  {
   "cell_type": "markdown",
   "metadata": {},
   "source": [
    "A vantagem de se usar o log retorno é que seu retorno acumulado é simplesmente o somatório dos retornos."
   ]
  },
  {
   "cell_type": "markdown",
   "metadata": {},
   "source": [
    "# <font color=blue|blue|red>**Retorno anualizado**</font>"
   ]
  },
  {
   "cell_type": "markdown",
   "metadata": {},
   "source": [
    "Para anualizar o retorno de um período, calculamos o retorno composto pelo número de vezes que um ano possui aquele período. Por exemplo, se o período for mensal, iremos realizar o produto 12 vezes."
   ]
  },
  {
   "cell_type": "markdown",
   "metadata": {},
   "source": [
    "Fórmula para anualizar retorno mensal: \n",
    " $$ R_m = (1+R_m)^{12} - 1$$\n",
    " \n",
    " Fórmula para anualizar retorno diário:\n",
    " $$ R_d = (1+R_d)^{252} - 1$$"
   ]
  },
  {
   "cell_type": "code",
   "execution_count": 16,
   "metadata": {},
   "outputs": [
    {
     "data": {
      "text/plain": [
       "0.12682503013196977"
      ]
     },
     "execution_count": 16,
     "metadata": {},
     "output_type": "execute_result"
    }
   ],
   "source": [
    "rm = 0.01\n",
    "(1+rm)**12 - 1"
   ]
  },
  {
   "cell_type": "code",
   "execution_count": 17,
   "metadata": {},
   "outputs": [
    {
     "data": {
      "text/plain": [
       "0.21550625000000023"
      ]
     },
     "execution_count": 17,
     "metadata": {},
     "output_type": "execute_result"
    }
   ],
   "source": [
    "#Retorno anualizado de um trimestre\n",
    "rt = 0.05\n",
    "(1+rt)**4 - 1"
   ]
  }
 ],
 "metadata": {
  "kernelspec": {
   "display_name": "Python 3",
   "language": "python",
   "name": "python3"
  },
  "language_info": {
   "codemirror_mode": {
    "name": "ipython",
    "version": 3
   },
   "file_extension": ".py",
   "mimetype": "text/x-python",
   "name": "python",
   "nbconvert_exporter": "python",
   "pygments_lexer": "ipython3",
   "version": "3.8.2"
  }
 },
 "nbformat": 4,
 "nbformat_minor": 4
}
